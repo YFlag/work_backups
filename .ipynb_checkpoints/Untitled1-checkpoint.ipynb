{
 "cells": [
  {
   "cell_type": "code",
   "execution_count": 25,
   "metadata": {},
   "outputs": [
    {
     "name": "stdout",
     "output_type": "stream",
     "text": [
      "(1, 1, 1, 0)\n"
     ]
    },
    {
     "data": {
      "image/png": "[encoded data removed]",
      "text/plain": [
       "<matplotlib.figure.Figure at 0x7fb36231e048>"
      ]
     },
     "metadata": {},
     "output_type": "display_data"
    }
   ],
   "source": [
    "import feature_visualization as fv\n",
    "fv.jtplot.style(theme='chesterish')\n",
    "\n",
    "\n",
    "%matplotlib inline\n",
    "import matplotlib.pyplot as plt\n",
    "# plt.rcParams['figure.facecolor']='red'\n",
    "print(plt.rcParams['figure.facecolor'])\n",
    "import matplotlib as mpl\n",
    "\n",
    "fig, ax = plt.subplots()\n",
    "l1, = plt.plot([2,3,4])\n",
    "# l2, = plt.plot([3,2,6])\n",
    "# fv.reset()\n",
    "\"\"\" not work. \"\"\"\n",
    "# plt.gca().legend(['a'])\n",
    "# plt.gca().legend(['b'])\n",
    "# l2.set_label('x')\n",
    "plt.gca().legend()\n",
    "plt.show()"
   ]
  },
  {
   "cell_type": "code",
   "execution_count": 2,
   "metadata": {},
   "outputs": [
    {
     "name": "stdout",
     "output_type": "stream",
     "text": [
      "/usr/local/lib/python3.5/dist-packages/jupyterthemes/jtplot.py\n"
     ]
    }
   ],
   "source": [
    "from jupyterthemes import jtplot\n",
    "print(jtplot.__file__)"
   ]
  }
 ],
 "metadata": {
  "kernelspec": {
   "display_name": "Python 3",
   "language": "python",
   "name": "python3"
  },
  "language_info": {
   "codemirror_mode": {
    "name": "ipython",
    "version": 3
   },
   "file_extension": ".py",
   "mimetype": "text/x-python",
   "name": "python",
   "nbconvert_exporter": "python",
   "pygments_lexer": "ipython3",
   "version": "3.5.2"
  }
 },
 "nbformat": 4,
 "nbformat_minor": 2
}
