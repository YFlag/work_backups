{
 "cells": [
  {
   "cell_type": "code",
   "execution_count": 17,
   "metadata": {},
   "outputs": [
    {
     "name": "stdout",
     "output_type": "stream",
     "text": [
      "[-1. -1.] [-1.         -0.77777778]\n"
     ]
    },
    {
     "data": {
      "image/png": "[encoded data removed]",
      "text/plain": [
       "<matplotlib.figure.Figure at 0x7f34b250db70>"
      ]
     },
     "metadata": {
      "needs_background": "light"
     },
     "output_type": "display_data"
    }
   ],
   "source": [
    "from matplotlib.patches import ConnectionPatch\n",
    "import matplotlib.pyplot as plt\n",
    "\n",
    "fig, (ax1, ax2) = plt.subplots(1, 2, figsize=(6, 3), sharex=True, sharey=True)\n",
    "\n",
    "xyA = (0.2, 0.2)\n",
    "xyB = (0.8, 0.8)\n",
    "\n",
    "\n",
    "\n",
    "coordsA = \"data\"\n",
    "coordsB = \"data\"\n",
    "con = ConnectionPatch(xyA, xyB, coordsA, coordsB,\n",
    "                      arrowstyle=\"-|>\", shrinkA=5, shrinkB=5,\n",
    "                      mutation_scale=20, fc=\"w\")\n",
    "ax1.plot([xyA[0], xyB[0]], [xyA[1], xyB[1]], \"o\")\n",
    "ax1.add_artist(con)\n",
    "\n",
    "xy = (0.3, 0.2)\n",
    "xyA = feature_input_s[0]\n",
    "xyB = feature_input_s[1]\n",
    "print(xyA, xyB)\n",
    "coordsA = \"data\"\n",
    "coordsB = \"data\"\n",
    "con = ConnectionPatch(xyA=xyB, xyB=xyA, coordsA=coordsA, coordsB=coordsB,\n",
    "                      axesA=ax2, axesB=ax1,\n",
    "                      arrowstyle=\"->\", shrinkB=5)\n",
    "ax2.add_artist(con)\n",
    "\n",
    "ax1.set_xlim(-1, 1)\n",
    "ax1.set_ylim(-1, 1)\n",
    "ax2.set_xlim(-1, .5)\n",
    "ax2.set_ylim(-1, .5)\n",
    "\n",
    "plt.show()"
   ]
  },
  {
   "cell_type": "code",
   "execution_count": 7,
   "metadata": {},
   "outputs": [
    {
     "name": "stdout",
     "output_type": "stream",
     "text": [
      "10\n",
      "ConnectionPatch((0.5,0.5),(-1,-1))\n",
      "ConnectionPatch((0.444672,0.555328),(-1,-0.777778))\n",
      "ConnectionPatch((0.390682,0.609318),(-1,-0.555556))\n",
      "ConnectionPatch((0.339244,0.660756),(-1,-0.333333))\n",
      "ConnectionPatch((0.291339,0.708661),(-1,-0.111111))\n",
      "ConnectionPatch((0.247664,0.752336),(-1,0.111111))\n",
      "ConnectionPatch((0.208609,0.791391),(-1,0.333333))\n",
      "ConnectionPatch((0.174285,0.825715),(-1,0.555556))\n",
      "ConnectionPatch((0.144578,0.855422),(-1,0.777778))\n",
      "ConnectionPatch((0.119203,0.880797),(-1,1))\n"
     ]
    },
    {
     "data": {
      "image/png": "[encoded data removed]",
      "text/plain": [
       "<matplotlib.figure.Figure at 0x7f34b2638128>"
      ]
     },
     "metadata": {
      "needs_background": "light"
     },
     "output_type": "display_data"
    }
   ],
   "source": [
    "def feature_s_transformation(feature_input_s):\n",
    "        assert not transform_matrix or np.array(transform_matrix).ndim == 2 \n",
    "        \"\"\" 'callable()' returns True denotes the element data type is a function object here. \"\"\"\n",
    "        if transform_matrix and callable(transform_matrix[0][0]):\n",
    "            vector_valued_function = np.array(transform_matrix).reshape(-1)        \n",
    "            feature_output_s_collector = []\n",
    "\n",
    "            \"\"\" here, `feature_function` receives a vector and gives a scalar. \"\"\"\n",
    "            for feature_input in feature_input_s:\n",
    "                feature_output_s_collector.append([\n",
    "                    feature_function(*feature_input) for feature_function in vector_valued_function\n",
    "                ])\n",
    "            return [np.array(feature_output_s_collector)]\n",
    "        elif transform_matrix:\n",
    "            return [feature_input_s.dot(transform_matrix)]\n",
    "        else:\n",
    "            return []\n",
    "        \n",
    "\n",
    "    \n",
    "import numpy as np\n",
    "    \n",
    "sampling_size = 10\n",
    "feature_input_s = np.column_stack([\n",
    "    np.repeat(np.linspace(-1, 1, sampling_size), sampling_size),\n",
    "    np.tile(np.linspace(-1, 1, sampling_size), sampling_size),\n",
    "])\n",
    "transform_matrix = [\n",
    "    [lambda x_1, x_2: np.exp(x_1) / (np.exp(x_1) + np.exp(x_2)),\n",
    "     lambda x_1, x_2: np.exp(x_2) / (np.exp(x_1) + np.exp(x_2))]\n",
    "]\n",
    "\n",
    "\n",
    "feature_input_s = np.array(feature_input_s)\n",
    "feature_output_s = feature_s_transformation(feature_input_s)\n",
    "feature_s_all_phase = [feature_input_s] + feature_output_s\n",
    "fig, (ax1, ax2) = plt.subplots(1, 2, figsize=(6, 3))\n",
    "print(sampling_size)\n",
    "for i in range(sampling_size):\n",
    "    \"\"\" 0-th phase | x-coordinates | i-th sample \"\"\"\n",
    "    \"\"\" `axesB` is the first one. \"\"\"\n",
    "    con = ConnectionPatch(xyA=feature_s_all_phase[1][i], xyB=feature_s_all_phase[0][i], \n",
    "                      coordsA='data', coordsB='data', \n",
    "                      arrowstyle='<-',\n",
    "                      axesA=ax2, axesB=ax1,\n",
    "                      linewidth=0.5,\n",
    "                      color='r', zorder=10\n",
    "    )\n",
    "    print(con)\n",
    "\n",
    "plt.show()"
   ]
  }
 ],
 "metadata": {
  "kernelspec": {
   "display_name": "Python 3",
   "language": "python",
   "name": "python3"
  },
  "language_info": {
   "codemirror_mode": {
    "name": "ipython",
    "version": 3
   },
   "file_extension": ".py",
   "mimetype": "text/x-python",
   "name": "python",
   "nbconvert_exporter": "python",
   "pygments_lexer": "ipython3",
   "version": "3.5.2"
  }
 },
 "nbformat": 4,
 "nbformat_minor": 2
}
