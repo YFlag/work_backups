{
 "cells": [
  {
   "cell_type": "code",
   "execution_count": 15,
   "metadata": {},
   "outputs": [
    {
     "data": {
      "application/vnd.jupyter.widget-view+json": {
       "model_id": "e532655fcd7348298e6a01e5747c0658",
       "version_major": 2,
       "version_minor": 0
      },
      "text/plain": [
       "interactive(children=(FloatSlider(value=0.0, description='x', max=1.0), Output()), _dom_classes=('widget-inter…"
      ]
     },
     "metadata": {},
     "output_type": "display_data"
    }
   ],
   "source": [
    "%matplotlib notebook\n",
    "import matplotlib as mpl\n",
    "import matplotlib.pyplot as plt\n",
    "import ipywidgets as widgets\n",
    "import numpy as np\n",
    "import pdb\n",
    "\n",
    "def do_plot():\n",
    "    global initial\n",
    "    if initial:\n",
    "        global a, l, fig, ax\n",
    "        fig, ax = plt.subplots()\n",
    "        l, = ax.plot([1,2,5])\n",
    "        ax.set_xlim(0,3)\n",
    "        initial = False\n",
    "    else:\n",
    "        pass\n",
    "#         l.set_data(range(3), np.array([1,2,5])+a)\n",
    "    plt.show()\n",
    "\n",
    "def update(x):\n",
    "    global a\n",
    "    a = x\n",
    "    do_plot()\n",
    "    l.set_data(range(3), np.array([1,2,5])+a)\n",
    "    \n",
    "initial = True\n",
    "widgets.interact(update, x=(0,1,0.1,))\n",
    "aa = 3\n",
    "# pdb.set_trace()\n",
    "xxx = 1"
   ]
  },
  {
   "cell_type": "code",
   "execution_count": 13,
   "metadata": {},
   "outputs": [
    {
     "name": "stdout",
     "output_type": "stream",
     "text": [
      "(range(0, 3), array([ 1.2,  2.2,  5.2]))\n",
      "0.2 Figure(800x600) AxesSubplot(0.125,0.11;0.775x0.77) Line2D(_line0)\n",
      "True\n",
      "nbAgg\n"
     ]
    }
   ],
   "source": [
    "print(l.get_data())\n",
    "print(a, fig, ax, l)\n",
    "\n",
    "print(mpl.is_interactive())\n",
    "print(mpl.get_backend())"
   ]
  }
 ],
 "metadata": {
  "kernelspec": {
   "display_name": "Python 3",
   "language": "python",
   "name": "python3"
  },
  "language_info": {
   "codemirror_mode": {
    "name": "ipython",
    "version": 3
   },
   "file_extension": ".py",
   "mimetype": "text/x-python",
   "name": "python",
   "nbconvert_exporter": "python",
   "pygments_lexer": "ipython3",
   "version": "3.5.2"
  }
 },
 "nbformat": 4,
 "nbformat_minor": 2
}
