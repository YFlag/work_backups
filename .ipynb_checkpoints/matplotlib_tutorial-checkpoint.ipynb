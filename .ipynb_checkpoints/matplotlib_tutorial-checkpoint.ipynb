{
 "cells": [
  {
   "cell_type": "code",
   "execution_count": 8,
   "metadata": {},
   "outputs": [
    {
     "data": {
      "image/png": "[encoded data removed]",
      "text/plain": [
       "<matplotlib.figure.Figure at 0x7f2f12ba0048>"
      ]
     },
     "metadata": {},
     "output_type": "display_data"
    }
   ],
   "source": [
    "%matplotlib inline\n",
    "import numpy as np\n",
    "import matplotlib.pyplot as plt\n",
    "from jupyterthemes import jtplot\n",
    "\n",
    "\n",
    "jtplot.style(theme='gruvboxd')\n",
    "# jtplot.reset()\", \"metadata\": {\"trusted\": true}, \"outputs\": [], \"cell_type\": \"code\"}, {\"execution_count\": 9, \"source\": \"x = [1, 2, 3]\n",
    "x = np.array([1, 2, 3, 1, 2, 3])\n",
    "y = np.array([3, 4, 5, 7, 8, 9])\n",
    "\n",
    "# plt.plot(x, y)\n",
    "\n",
    "# ax = plt.subplot(); ax.plot(x, y)\n",
    "# ax = plt.subplot(111); ax.plot(x, y)\n",
    "\n",
    "fig, ax = plt.subplots(1, 2, sharex=True, sharey=True);\n",
    "ax[0].plot(x, y)\n",
    "ax[1].plot(x-10, y+10)\n",
    "# fig, ax = plt.subplots(1, 1); ax.plot(x, y)\n",
    "\n",
    "# error!\n",
    "# fig = plt.figure(); ax = fig.add_subplot(); ax.plot(x, y)\n",
    "# fig = plt.figure(); ax = fig.add_subplot(111); ax.plot(y)\n",
    "\n",
    "\n",
    "plt.show()"
   ]
  }
 ],
 "metadata": {
  "kernelspec": {
   "display_name": "Python 3",
   "language": "python",
   "name": "python3"
  },
  "language_info": {
   "codemirror_mode": {
    "name": "ipython",
    "version": 3
   },
   "file_extension": ".py",
   "mimetype": "text/x-python",
   "name": "python",
   "nbconvert_exporter": "python",
   "pygments_lexer": "ipython3",
   "version": "3.5.2"
  }
 },
 "nbformat": 4,
 "nbformat_minor": 2
}
