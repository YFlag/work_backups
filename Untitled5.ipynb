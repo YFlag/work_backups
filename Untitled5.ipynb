{
 "cells": [
  {
   "cell_type": "code",
   "execution_count": 81,
   "metadata": {},
   "outputs": [
    {
     "name": "stdout",
     "output_type": "stream",
     "text": [
      "[ 11.   1.   2.]\n",
      "[[ 0.          0.          1.        ]\n",
      " [ 0.4472136   0.89442719  0.        ]\n",
      " [ 0.89442719 -0.4472136   0.        ]]\n",
      "[ 0.          4.91934955  9.8386991 ]\n",
      "[ 0.          4.91934955  9.8386991 ]\n",
      "-------\n",
      "[ 0.          4.91934955  9.8386991 ]\n",
      "[ 0.          4.91934955  9.8386991 ]\n"
     ]
    }
   ],
   "source": [
    "import numpy as np\n",
    "\n",
    "A = np.array([\n",
    "    [2, 0, 0],\n",
    "    [0, 3, 4],\n",
    "    [0, 4, 9]\n",
    "])\n",
    "\n",
    "λ_s, V = np.linalg.eig(A)\n",
    "print(λ_s)\n",
    "print(V)\n",
    "x = V.T[0]\n",
    "λ = λ_s[0]\n",
    "print(A @ x)\n",
    "print(λ * x)\n",
    "print('-------')\n",
    "print(x @ A)\n",
    "print(λ * x)"
   ]
  },
  {
   "cell_type": "markdown",
   "metadata": {},
   "source": [
    "### diagonalization of matrix: $A = S \\Lambda S^{-1}$"
   ]
  },
  {
   "cell_type": "code",
   "execution_count": 51,
   "metadata": {},
   "outputs": [
    {
     "name": "stdout",
     "output_type": "stream",
     "text": [
      "eigenvalues -----------\n",
      " [ 11.   1.   2.]\n",
      "[[ 11.   0.   0.]\n",
      " [  0.   1.   0.]\n",
      " [  0.   0.   2.]]\n",
      "eigenvectors -----------\n",
      " [[ 0  0  1]\n",
      " [ 1 -2  0]\n",
      " [ 2  1  0]]\n",
      "[[ 0.   0.2  0.4]\n",
      " [-0.  -0.4  0.2]\n",
      " [ 1.   0.   0. ]]\n",
      "A=SΛS^-1 -----------\n",
      " [[ 2.  0.  0.]\n",
      " [ 0.  3.  4.]\n",
      " [ 0.  4.  9.]]\n"
     ]
    }
   ],
   "source": [
    "import numpy as np\n",
    "\n",
    "A = np.array([\n",
    "    [2, 0, 0],\n",
    "    [0, 3, 4],\n",
    "    [0, 4, 9]\n",
    "])\n",
    "\n",
    "λ_s, V = np.linalg.eig(A)\n",
    "Λ = np.diagflat(λ_s)\n",
    "print('eigenvalues -----------\\n', λ_s)\n",
    "print(Λ)\n",
    "\n",
    "S = np.array([\n",
    "    [0, 0, 1],\n",
    "    [1, -2, 0],\n",
    "    [2, 1, 0]\n",
    "])\n",
    "S_inv = np.linalg.inv(S)\n",
    "print('eigenvectors -----------\\n', S)\n",
    "print(S_inv)\n",
    "\n",
    "print('A=SΛS^-1 -----------\\n', S @ Λ @ S_inv)"
   ]
  },
  {
   "cell_type": "code",
   "execution_count": null,
   "metadata": {},
   "outputs": [],
   "source": [
    "b = np.array([])\n",
    "A @"
   ]
  },
  {
   "cell_type": "code",
   "execution_count": 50,
   "metadata": {},
   "outputs": [
    {
     "data": {
      "text/latex": [
       "$$\\left [ \\left ( 1, \\quad 1, \\quad \\left [ \\left[\\begin{matrix}0\\\\-2\\\\1\\end{matrix}\\right]\\right ]\\right ), \\quad \\left ( 2, \\quad 1, \\quad \\left [ \\left[\\begin{matrix}1\\\\0\\\\0\\end{matrix}\\right]\\right ]\\right ), \\quad \\left ( 11, \\quad 1, \\quad \\left [ \\left[\\begin{matrix}0\\\\\\frac{1}{2}\\\\1\\end{matrix}\\right]\\right ]\\right )\\right ]$$"
      ],
      "text/plain": [
       "⎡⎛      ⎡⎡0 ⎤⎤⎞  ⎛      ⎡⎡1⎤⎤⎞  ⎛       ⎡⎡ 0 ⎤⎤⎞⎤\n",
       "⎢⎜      ⎢⎢  ⎥⎥⎟  ⎜      ⎢⎢ ⎥⎥⎟  ⎜       ⎢⎢   ⎥⎥⎟⎥\n",
       "⎢⎜1, 1, ⎢⎢-2⎥⎥⎟, ⎜2, 1, ⎢⎢0⎥⎥⎟, ⎜11, 1, ⎢⎢1/2⎥⎥⎟⎥\n",
       "⎢⎜      ⎢⎢  ⎥⎥⎟  ⎜      ⎢⎢ ⎥⎥⎟  ⎜       ⎢⎢   ⎥⎥⎟⎥\n",
       "⎣⎝      ⎣⎣1 ⎦⎦⎠  ⎝      ⎣⎣0⎦⎦⎠  ⎝       ⎣⎣ 1 ⎦⎦⎠⎦"
      ]
     },
     "execution_count": 50,
     "metadata": {},
     "output_type": "execute_result"
    }
   ],
   "source": [
    "import sympy\n",
    "# sympy.init_printing(use_unicode=True)\n",
    "\n",
    "A = sympy.Matrix([\n",
    "    [2, 0, 0],\n",
    "    [0, 3, 4],\n",
    "    [0, 4, 9]\n",
    "])\n",
    "A.eigenvects()"
   ]
  },
  {
   "cell_type": "code",
   "execution_count": 41,
   "metadata": {
    "scrolled": true
   },
   "outputs": [
    {
     "name": "stdout",
     "output_type": "stream",
     "text": [
      "standard eigenvectors -----------\n",
      " [[ 0.          0.          1.        ]\n",
      " [ 0.4472136   0.89442719  0.        ]\n",
      " [ 0.89442719 -0.4472136   0.        ]]\n",
      "[[ 0.          0.4472136   0.89442719]\n",
      " [ 0.          0.89442719 -0.4472136 ]\n",
      " [ 1.          0.          0.        ]]\n",
      "A=SΛS^-1 -----------\n",
      " [[ 2.  0.  0.]\n",
      " [ 0.  3.  4.]\n",
      " [ 0.  4.  9.]]\n"
     ]
    }
   ],
   "source": [
    "S = V\n",
    "\n",
    "S_inv = np.linalg.inv(S)\n",
    "print('standard eigenvectors -----------\\n', S)\n",
    "print(S_inv)\n",
    "\n",
    "print('A=SΛS^-1 -----------\\n', S @ Λ @ S_inv)"
   ]
  },
  {
   "cell_type": "markdown",
   "metadata": {},
   "source": [
    "### Conclusion\n",
    "1.$Q=[\\boldsymbol q_1, \\boldsymbol q_2 ...]$ is said to be a **orthogonal square matrix**, where $\\{\\boldsymbol q_i\\}_{i=1..}$ is a set of standardized and orthogonal basis.\n",
    "- $Q^T · Q = I$\n",
    "- $Q^T = Q^{-1}$ (<= orthonormal)\n",
    "\n",
    "2.Normal expression form of diagonalization:\n",
    "$$A = S \\Lambda S^{-1} $$"
   ]
  },
  {
   "cell_type": "code",
   "execution_count": 42,
   "metadata": {
    "code_folding": [],
    "collapsed": true
   },
   "outputs": [
    {
     "name": "stdout",
     "output_type": "stream",
     "text": [
      "eigenvalues -----------\n",
      " [ 32.  18.]\n",
      "[[ 32.   0.]\n",
      " [  0.  18.]]\n",
      "standard eigenvectors (U or V) -----------\n",
      " [[ 0.70710678 -0.70710678]\n",
      " [ 0.70710678  0.70710678]]\n",
      "[[ 0.70710678  0.70710678]\n",
      " [-0.70710678  0.70710678]]\n",
      "A=SΛS^-1 -----------\n",
      " [[ 25.   7.]\n",
      " [  7.  25.]]\n",
      "————————————————\n",
      "eigenvalues -----------\n",
      " [ 32.  18.]\n",
      "[[ 32.   0.]\n",
      " [  0.  18.]]\n",
      "standard eigenvectors (U or V) -----------\n",
      " [[ 1.  0.]\n",
      " [ 0.  1.]]\n",
      "[[ 1.  0.]\n",
      " [ 0.  1.]]\n",
      "A=SΛS^-1 -----------\n",
      " [[ 32.   0.]\n",
      " [  0.  18.]]\n"
     ]
    }
   ],
   "source": [
    "import numpy as np\n",
    "\n",
    "def diagonalize(A):\n",
    "    λ_s, V = np.linalg.eig(A)\n",
    "    Λ = np.diagflat(λ_s)\n",
    "    print('eigenvalues -----------\\n', λ_s)\n",
    "    print(Λ)\n",
    "\n",
    "    S = V\n",
    "    S_inv = np.linalg.inv(S)\n",
    "    print('standard eigenvectors (U or V) -----------\\n', S)\n",
    "    print(S_inv)\n",
    "\n",
    "    print('A=SΛS^-1 -----------\\n', S @ Λ @ S_inv)\n",
    "    \n",
    "A = np.array([\n",
    "    [4, 4],\n",
    "    [-3, 3]\n",
    "])\n",
    "AT_mul_A = A.T @ A\n",
    "diagonalize(AT_mul_A)\n",
    "print('————————————————')\n",
    "A_mul_AT = A @ A.T\n",
    "diagonalize(A_mul_AT)"
   ]
  },
  {
   "cell_type": "code",
   "execution_count": 38,
   "metadata": {},
   "outputs": [
    {
     "name": "stdout",
     "output_type": "stream",
     "text": [
      "(2, 2) (2,) (2, 2)\n",
      "[[-1.  0.]\n",
      " [ 0.  1.]]\n",
      "[ 5.65685425  4.24264069]\n",
      "[[-0.70710678 -0.70710678]\n",
      " [-0.70710678  0.70710678]]\n"
     ]
    }
   ],
   "source": [
    "u, s, vh = np.linalg.svd(A, full_matrices=False)\n",
    "print(u.shape, s.shape, vh.shape)\n",
    "print(u)\n",
    "print(s)\n",
    "print(vh)"
   ]
  },
  {
   "cell_type": "markdown",
   "metadata": {},
   "source": [
    "### PCA"
   ]
  },
  {
   "cell_type": "markdown",
   "metadata": {},
   "source": [
    "1.Prepare the dataset $A_{n \\times m}$ (sample_size, feature_dimension). Assume it has zero mean and same scale featurewise."
   ]
  },
  {
   "cell_type": "code",
   "execution_count": 67,
   "metadata": {},
   "outputs": [],
   "source": [
    "import numpy as np\n",
    "\n",
    "A = np.array([\n",
    "    [4, 4],\n",
    "    [-3, 3]\n",
    "])"
   ]
  },
  {
   "cell_type": "markdown",
   "metadata": {},
   "source": [
    "2.Compute the covariance matrix of the data (each row of $\\boldsymbol{A_{n \\times m}}$ is an observation of all the $m$ dimensions. i.e. all $m$ random variables: $\\mathbf{X}, \\mathbf{Y}, \\mathbf{Z}, \\cdots$):\n",
    "$$\n",
    "    \\begin{align}\n",
    "    \\boldsymbol{\\Sigma_{m \\times m}}\n",
    "    &=\n",
    "        \\frac{1}{n}\n",
    "        \\begin{bmatrix}\n",
    "            \\sum(x_j-\\bar{x})^2 & \\sum(x_j-\\bar{x})(y_j-\\bar{y}) & \\cdots \\\\\n",
    "            \\sum(y_j-\\bar{y})(x_j-\\bar{x}) & \\sum(y_j-\\bar{y})^2 & \\cdots \\\\\n",
    "            \\vdots & \\vdots & \\ddots\n",
    "        \\end{bmatrix}_{m \\times m}\n",
    "        \\\\\n",
    "    &=\n",
    "        \\frac{1}{n}\n",
    "        \\begin{bmatrix}\n",
    "            x_0 \\\\\n",
    "            y_0 \\\\\n",
    "            \\vdots \n",
    "        \\end{bmatrix}\n",
    "        [x_0 \\  y_0 \\ \\cdots]\n",
    "        +\n",
    "        \\frac{1}{n}\n",
    "        \\begin{bmatrix}\n",
    "            x_{1} \\\\\n",
    "            y_{1} \\\\\n",
    "            \\vdots \n",
    "        \\end{bmatrix}\n",
    "        [x_{1} \\  y_{1} \\ \\cdots]\n",
    "        +\n",
    "        \\cdots\n",
    "        \\\\\n",
    "    &= \n",
    "        \\frac{1}{n}\n",
    "        \\begin{bmatrix}\n",
    "            a_{00} \\\\\n",
    "            a_{01} \\\\\n",
    "            \\vdots \n",
    "        \\end{bmatrix}\n",
    "        [a_{00} \\  a_{01} \\ \\cdots]\n",
    "        +\n",
    "        \\frac{1}{n}\n",
    "        \\begin{bmatrix}\n",
    "            a_{10} \\\\\n",
    "            a_{11} \\\\\n",
    "            \\vdots \n",
    "        \\end{bmatrix}\n",
    "        [a_{10} \\  a_{11} \\ \\cdots]\n",
    "        +\n",
    "        \\cdots \n",
    "        \\\\\n",
    "    &=\n",
    "        \\frac{1}{n}\n",
    "        \\begin{bmatrix}\n",
    "            a_{00} & a_{10} & \\cdots \\\\\n",
    "            a_{01} & a_{11} & \\cdots \\\\\n",
    "            \\cdots & \\cdots & \\ddots \n",
    "        \\end{bmatrix}_{m \\times n}\n",
    "        \\bullet\n",
    "        \\begin{bmatrix}\n",
    "            a_{00} & a_{01} & \\cdots \\\\\n",
    "            a_{10} & a_{11} & \\cdots \\\\\n",
    "            \\cdots & \\cdots & \\ddots \n",
    "        \\end{bmatrix}_{n \\times m}\n",
    "        \\\\\n",
    "    &=\n",
    "        \\frac{1}{n}\n",
    "        A^TA\n",
    "    \\end{align}\n",
    "$$"
   ]
  },
  {
   "cell_type": "code",
   "execution_count": 71,
   "metadata": {},
   "outputs": [
    {
     "name": "stdout",
     "output_type": "stream",
     "text": [
      "[[ 12.5   3.5]\n",
      " [  3.5  12.5]]\n"
     ]
    }
   ],
   "source": [
    "AT_mul_A = A.T @ A / 2\n",
    "print(AT_mul_A)"
   ]
  },
  {
   "cell_type": "markdown",
   "metadata": {},
   "source": [
    "3.Compute the eigenvalues and eigenvectors and normalize. the $U$ is just what we want:"
   ]
  },
  {
   "cell_type": "code",
   "execution_count": 72,
   "metadata": {
    "scrolled": true
   },
   "outputs": [
    {
     "name": "stdout",
     "output_type": "stream",
     "text": [
      "[ 16.   9.]\n",
      "[[ 0.70710678 -0.70710678]\n",
      " [ 0.70710678  0.70710678]]\n"
     ]
    }
   ],
   "source": [
    "λ_s, U = np.linalg.eig(AT_mul_A)\n",
    "print(λ_s)\n",
    "print(U)"
   ]
  },
  {
   "cell_type": "markdown",
   "metadata": {},
   "source": [
    "4.Transform the data using the principal directions $\\boldsymbol{u_i}$ in $U$:"
   ]
  },
  {
   "cell_type": "code",
   "execution_count": 73,
   "metadata": {},
   "outputs": [
    {
     "name": "stdout",
     "output_type": "stream",
     "text": [
      "[[ 5.65685425  0.        ]\n",
      " [ 0.          4.24264069]]\n"
     ]
    }
   ],
   "source": [
    "print(A @ U)"
   ]
  },
  {
   "cell_type": "code",
   "execution_count": 57,
   "metadata": {},
   "outputs": [
    {
     "name": "stdout",
     "output_type": "stream",
     "text": [
      "[  5.00000000e+00   5.49532361e-17]\n"
     ]
    }
   ],
   "source": [
    "from sklearn.decomposition import PCA\n",
    "pca = PCA(n_components=2, svd_solver='full')\n",
    "pca.fit(A)\n",
    "\n",
    "print(pca.components_)\n",
    "print(pca.singular_values_)  "
   ]
  }
 ],
 "metadata": {
  "kernelspec": {
   "display_name": "Python 3",
   "language": "python",
   "name": "python3"
  },
  "language_info": {
   "codemirror_mode": {
    "name": "ipython",
    "version": 3
   },
   "file_extension": ".py",
   "mimetype": "text/x-python",
   "name": "python",
   "nbconvert_exporter": "python",
   "pygments_lexer": "ipython3",
   "version": "3.5.2"
  }
 },
 "nbformat": 4,
 "nbformat_minor": 2
}
