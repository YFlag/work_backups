{
 "cells": [
  {
   "cell_type": "code",
   "execution_count": 2,
   "metadata": {},
   "outputs": [],
   "source": [
    "import numpy as np\n",
    "\n",
    "import feature_visualization as fv\n",
    "\n",
    "[x_coords, y_coords] = fv.sampling('quadratic', 'matplotlib', 50)\n",
    "xy1 = np.array([x_coords, y_coords+0.4])\n",
    "xy2 = np.array([x_coords, y_coords-0.45])\n",
    "\"\"\" `x` here means input feature vector x \"\"\"\n",
    "x_s_train = np.hstack([xy1, xy2]).T\n",
    "y_s_train = np.array([[1, 0]]*50 + [[0, 1]]*50)"
   ]
  },
  {
   "cell_type": "code",
   "execution_count": 2,
   "metadata": {},
   "outputs": [],
   "source": [
    "import os\n",
    "import numpy as np\n",
    "np.set_printoptions(formatter={'float': lambda x: \"{0:0.3f}\".format(x)})\n",
    "mnist_dir = '/notebooks/Freund\\'s_Shrine/Data/MNIST/mnist_npy'\n",
    "\n",
    "x_s_train = np.load(os.path.join(mnist_dir, 'mnist_train_images.npy'))\n",
    "y_s_train = np.load(os.path.join(mnist_dir, 'mnist_train_labels.npy'))"
   ]
  },
  {
   "cell_type": "code",
   "execution_count": 15,
   "metadata": {},
   "outputs": [
    {
     "name": "stdout",
     "output_type": "stream",
     "text": [
      "[121.06275267526507, 118.91765427216887, 90.52157405205071, 87.12941682850942]\n"
     ]
    }
   ],
   "source": [
    "print([x_s_train[i] @ ([1]*784) for i in range(4)])"
   ]
  },
  {
   "cell_type": "code",
   "execution_count": 65,
   "metadata": {},
   "outputs": [
    {
     "name": "stdout",
     "output_type": "stream",
     "text": [
      "4.1962738037109375 MB\n",
      "(55000, 10)\n",
      "4.1962738037109375 MB\n",
      "(55000, 10)\n"
     ]
    }
   ],
   "source": [
    "import sys\n",
    "print(sys.getsizeof(y_s_train.astype('float64')) / (1024*1024), 'MB')\n",
    "print(y_s_train.shape)\n",
    "predict = enn.predict(x_s_train)\n",
    "print(sys.getsizeof(predict) / (1024*1024), 'MB')\n",
    "print(predict.shape)"
   ]
  },
  {
   "cell_type": "code",
   "execution_count": 64,
   "metadata": {},
   "outputs": [],
   "source": [
    "import enn_v1_0\n",
    "from importlib import reload\n",
    "reload(enn_v1_0)\n",
    "\n",
    "from enn_v1_0 import ENN\n",
    "\n",
    "enn = ENN(feature_dimension=784, \n",
    "          num_of_class=10, \n",
    "          learning_rate=0.5,\n",
    "          batch_size=1000,\n",
    "          params_init='normal')"
   ]
  },
  {
   "cell_type": "code",
   "execution_count": 34,
   "metadata": {},
   "outputs": [
    {
     "name": "stdout",
     "output_type": "stream",
     "text": [
      "transforming completed.\n",
      "1323.23860324 | 0.0622\n",
      "1349.77662081 | 0.0618181818182\n",
      "1375.64460606 | 0.0610181818182\n",
      "1402.07401609 | 0.0608363636364\n",
      "1429.68059371 | 0.0607636363636\n",
      "training completed.\n"
     ]
    }
   ],
   "source": [
    "pass\n",
    "\n",
    "_ = enn.fit(x_s_train, y_s_train*112, 25)"
   ]
  },
  {
   "cell_type": "code",
   "execution_count": 11,
   "metadata": {},
   "outputs": [
    {
     "data": {
      "text/plain": [
       "0.81547272727272724"
      ]
     },
     "execution_count": 11,
     "metadata": {},
     "output_type": "execute_result"
    }
   ],
   "source": [
    "enn.accuracy(x_s_train, y_s_train, trace_dict['W'][1], trace_dict['b'][1])"
   ]
  },
  {
   "cell_type": "markdown",
   "metadata": {},
   "source": [
    "1.trainset数据二值化\n",
    "2.trainset中0数据添加噪声\n",
    "3.label的0改为-1"
   ]
  },
  {
   "cell_type": "code",
   "execution_count": 25,
   "metadata": {},
   "outputs": [
    {
     "name": "stdout",
     "output_type": "stream",
     "text": [
      "10.9525 | 0.114055\n",
      "7.32076 | 0.186945\n",
      "5.51688 | 0.2712\n",
      "training completed.\n"
     ]
    }
   ],
   "source": [
    "from importlib import reload\n",
    "import simple_nn\n",
    "reload(simple_nn)\n",
    "from simple_nn import NN\n",
    "\n",
    "# x_s_train_1 = np.where(x_s_train, 1, 0)\n",
    "# y_s_train_1 = np.where(y_s_train, y_s_train, -1)\n",
    "nn = NN()\n",
    "trace_dict = nn.fit(x_s_train, y_s_train, 15)"
   ]
  },
  {
   "cell_type": "code",
   "execution_count": 5,
   "metadata": {
    "collapsed": true
   },
   "outputs": [
    {
     "name": "stdout",
     "output_type": "stream",
     "text": [
      "[ 22.16194658  15.62768631   4.08504028  12.97483608   9.35222275\n",
      "   2.57437422  24.09595647   5.80322019  20.22450796  23.08533709\n",
      "   1.1935231   18.95356722   7.44604745   7.50335233   2.53729803\n",
      "   5.30750666   5.2126507   12.75770221  11.4103578   16.38053949\n",
      "  19.72391215   1.34230477   8.82014432  13.82004522   2.18737272\n",
      "  20.99178535  20.67520703  24.88382608   5.6039475   21.05109938\n",
      "  22.39855513   9.88057147  23.6248726    0.76958703  24.72057593\n",
      "  19.70053246  15.15277772  14.4806931    1.59938339  20.56430246\n",
      "  21.38728512   2.81482505  23.93885163  21.39515356  18.31566575\n",
      "   5.09328602   5.35655902   6.87224217   6.72883487   2.12288675\n",
      "   1.12172838   8.33702923  10.12421458  13.0264755    8.05649501\n",
      "  10.22979787  11.41093493  12.7813472   14.43839265   9.14460304\n",
      "  23.7286094    3.49620279  22.26402976   7.38244499   7.74171182\n",
      "  22.79059209  21.57652662   3.71977956  19.02400529  23.56364975\n",
      "  14.26911354   6.59531803  11.36493813  21.862682    19.04034631\n",
      "   8.4335768   15.37832274  22.77073343  18.32756096   4.98590109\n",
      "  19.57652677  18.37090138  15.49734662   8.87737189   5.34831233\n",
      "   1.34946986  15.02529041   8.43942407   6.56016541  18.60046781\n",
      "  24.51165284   5.99546476  23.20591565   7.80493189   4.15739749\n",
      "  13.70153879   5.56811052   3.3829941   15.22394435  12.43543426]\n"
     ]
    }
   ],
   "source": [
    "# np.where(x_s_train, x_s_train, x_s_train+np.random.random())[0].reshape(28, 28)\n",
    "def f(x):\n",
    "    if not x:\n",
    "        return np.random.random()*0.1\n",
    "    else: return x\n",
    "x_s_train_2 = np.vectorize(f)(x_s_train)\n",
    "print(x_s_train_2[0][:100]*255)"
   ]
  },
  {
   "cell_type": "code",
   "execution_count": 9,
   "metadata": {},
   "outputs": [
    {
     "data": {
      "text/plain": [
       "array([[-1., -1., -1., -1., -1., -1., -1.,  1., -1., -1.],\n",
       "       [-1., -1., -1.,  1., -1., -1., -1., -1., -1., -1.],\n",
       "       [-1., -1., -1., -1.,  1., -1., -1., -1., -1., -1.],\n",
       "       [-1., -1., -1., -1., -1., -1.,  1., -1., -1., -1.],\n",
       "       [-1.,  1., -1., -1., -1., -1., -1., -1., -1., -1.],\n",
       "       [-1., -1., -1., -1., -1., -1., -1., -1.,  1., -1.],\n",
       "       [-1.,  1., -1., -1., -1., -1., -1., -1., -1., -1.],\n",
       "       [ 1., -1., -1., -1., -1., -1., -1., -1., -1., -1.],\n",
       "       [-1., -1., -1., -1., -1., -1., -1., -1., -1.,  1.],\n",
       "       [-1., -1., -1., -1., -1., -1., -1., -1.,  1., -1.]])"
      ]
     },
     "execution_count": 9,
     "metadata": {},
     "output_type": "execute_result"
    }
   ],
   "source": [
    "y_s_train_1[:10]"
   ]
  },
  {
   "cell_type": "code",
   "execution_count": 49,
   "metadata": {},
   "outputs": [
    {
     "name": "stdout",
     "output_type": "stream",
     "text": [
      "[5 5 5 5]\n"
     ]
    }
   ],
   "source": [
    "a = np.arange(4)\n",
    "for idx in np.ndindex(a.shape): a[idx] = 5\n",
    "print(a)"
   ]
  },
  {
   "cell_type": "code",
   "execution_count": 7,
   "metadata": {},
   "outputs": [
    {
     "data": {
      "text/plain": [
       "array([[ 1.63085389,  0.66493428,  0.57606614, ...,  1.08518696,\n",
       "        -0.47251543,  0.83812678],\n",
       "       [-1.26405966, -0.20170605, -0.58306408, ...,  1.05107677,\n",
       "        -1.10140932,  0.81771493],\n",
       "       [ 1.44756722, -1.71867228, -1.0607425 , ..., -0.05922402,\n",
       "        -0.33461428, -0.64276147],\n",
       "       ..., \n",
       "       [ 0.59873074,  1.28955913,  0.83978552, ..., -0.22002187,\n",
       "         1.10574257,  1.16159463],\n",
       "       [ 0.46044788,  0.00369721,  2.01321697, ...,  1.17743254,\n",
       "        -0.06926604,  0.71067858],\n",
       "       [ 0.57495451,  0.00515802, -1.16077685, ..., -0.14088225,\n",
       "         2.35878658,  1.23819268]], dtype=float32)"
      ]
     },
     "execution_count": 7,
     "metadata": {},
     "output_type": "execute_result"
    }
   ],
   "source": [
    "trace_dict['W'][1]"
   ]
  },
  {
   "cell_type": "code",
   "execution_count": 63,
   "metadata": {},
   "outputs": [],
   "source": [
    "import utility\n",
    "reload(utility)\n",
    "exec(utility.import_statements())"
   ]
  }
 ],
 "metadata": {
  "kernelspec": {
   "display_name": "Python 3",
   "language": "python",
   "name": "python3"
  },
  "language_info": {
   "codemirror_mode": {
    "name": "ipython",
    "version": 3
   },
   "file_extension": ".py",
   "mimetype": "text/x-python",
   "name": "python",
   "nbconvert_exporter": "python",
   "pygments_lexer": "ipython3",
   "version": "3.5.2"
  }
 },
 "nbformat": 4,
 "nbformat_minor": 2
}
