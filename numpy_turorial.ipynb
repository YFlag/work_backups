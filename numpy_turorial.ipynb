{
 "cells": [
  {
   "cell_type": "markdown",
   "metadata": {},
   "source": [
    "### Matplotlib-Style Data Sampling Tricks"
   ]
  },
  {
   "cell_type": "code",
   "execution_count": 1,
   "metadata": {},
   "outputs": [
    {
     "name": "stdout",
     "output_type": "stream",
     "text": [
      "[[1 2]\n",
      " [1 2]\n",
      " [1 2]]\n",
      "[[3 3]\n",
      " [4 4]\n",
      " [5 5]]\n",
      "[[4 5]\n",
      " [5 6]\n",
      " [6 7]]\n"
     ]
    }
   ],
   "source": [
    "import numpy as np\n",
    "\n",
    "x = [1, 2]\n",
    "y = [3, 4, 5]\n",
    "\n",
    "xx1, yy1 = np.meshgrid(x, y)\n",
    "print(xx1)\n",
    "print(yy1)\n",
    "print(xx1 + yy1)"
   ]
  },
  {
   "cell_type": "code",
   "execution_count": 2,
   "metadata": {},
   "outputs": [
    {
     "name": "stdout",
     "output_type": "stream",
     "text": [
      "[[1 2]]\n",
      "[[3 4 5]]\n",
      "[[4 5 6]\n",
      " [5 6 7]]\n",
      "[[4 5]\n",
      " [5 6]\n",
      " [6 7]]\n"
     ]
    }
   ],
   "source": [
    "xx2, yy2 = np.atleast_2d(x, y)\n",
    "print(xx2)\n",
    "print(yy2)\n",
    "\n",
    "print(xx2.T + yy2)\n",
    "print(xx2 + yy2.T)"
   ]
  },
  {
   "cell_type": "code",
   "execution_count": 3,
   "metadata": {},
   "outputs": [
    {
     "name": "stdout",
     "output_type": "stream",
     "text": [
      "[[1 1 1]\n",
      " [2 2 2]]\n",
      "[[3 4 5]\n",
      " [3 4 5]]\n"
     ]
    }
   ],
   "source": [
    "xx3, yy3 = np.mgrid[1:3, 3:6]\n",
    "print(xx3)\n",
    "print(yy3)"
   ]
  },
  {
   "cell_type": "code",
   "execution_count": 4,
   "metadata": {},
   "outputs": [
    {
     "name": "stdout",
     "output_type": "stream",
     "text": [
      "[[1]\n",
      " [2]]\n",
      "[[3 4 5]]\n"
     ]
    }
   ],
   "source": [
    "xx4, yy4 = np.ogrid[1:3, 3:6]\n",
    "print(xx4)\n",
    "print(yy4)"
   ]
  },
  {
   "cell_type": "markdown",
   "metadata": {},
   "source": [
    "### Numpy-Style Data Sampling Tricks"
   ]
  },
  {
   "cell_type": "code",
   "execution_count": 5,
   "metadata": {},
   "outputs": [
    {
     "name": "stdout",
     "output_type": "stream",
     "text": [
      "[[1 3]\n",
      " [1 4]\n",
      " [1 5]\n",
      " [2 3]\n",
      " [2 4]\n",
      " [2 5]]\n"
     ]
    }
   ],
   "source": [
    "xy5 = np.column_stack([\n",
    "    np.repeat(x, len(y)),\n",
    "    np.tile(y, len(x)),\n",
    "])\n",
    "print(xy5)"
   ]
  },
  {
   "cell_type": "markdown",
   "metadata": {},
   "source": [
    "### Numpy Stacking"
   ]
  },
  {
   "cell_type": "code",
   "execution_count": 28,
   "metadata": {},
   "outputs": [
    {
     "name": "stdout",
     "output_type": "stream",
     "text": [
      "[[1 4]\n",
      " [2 5]\n",
      " [3 6]]\n",
      "[[2 5]\n",
      " [3 6]\n",
      " [4 7]]\n",
      "----------\n",
      "[[1 4 2 5]\n",
      " [2 5 3 6]\n",
      " [3 6 4 7]]\n",
      "[[[1 4]\n",
      "  [2 5]]\n",
      "\n",
      " [[2 5]\n",
      "  [3 6]]\n",
      "\n",
      " [[3 6]\n",
      "  [4 7]]]\n",
      "[array([[1, 4],\n",
      "       [2, 5]]), array([[3, 6],\n",
      "       [2, 5]]), array([[3, 6],\n",
      "       [4, 7]])]\n"
     ]
    }
   ],
   "source": [
    "import numpy as np\n",
    "\n",
    "x2 = np.array([1, 2, 3])\n",
    "y2 = np.array([4, 5, 6])\n",
    "z2_1 = np.stack((x2,y2), axis=1)\n",
    "z2_2 = z2_1 + 1\n",
    "print(z2_1)\n",
    "print(z2_2)\n",
    "print('----------')\n",
    "print(np.concatenate((z2_1, z2_2), axis=1))\n",
    "print(np.stack((z2_1, z2_2), axis=1))\n",
    "z2_3 = np.concatenate((z2_1, z2_2), axis=0)\n",
    "print(np.split(z2_3, 3))"
   ]
  },
  {
   "cell_type": "markdown",
   "metadata": {},
   "source": [
    "### Miscellaneous"
   ]
  },
  {
   "cell_type": "code",
   "execution_count": 6,
   "metadata": {},
   "outputs": [
    {
     "name": "stdout",
     "output_type": "stream",
     "text": [
      "[[ 0.  0.  0.  0.]\n",
      " [ 0.  0.  0.  0.]\n",
      " [ 0.  0.  0.  0.]\n",
      " [ 0.  0.  0.  0.]]\n",
      "[[ 1.  0.  0.  0.]\n",
      " [ 0.  1.  0.  0.]\n",
      " [ 0.  0.  1.  0.]\n",
      " [ 0.  0.  0.  1.]]\n"
     ]
    }
   ],
   "source": [
    "\"\"\" one-hot array encoding or generation. \"\"\"\n",
    "a1 = np.array([0, 1, 2, 3])\n",
    "b1 = np.zeros((a1.size, a1.max() + 1))\n",
    "print(b1)\n",
    "b1[np.arange(a1.size), a1] = 1\n",
    "print(b1)"
   ]
  },
  {
   "cell_type": "code",
   "execution_count": 7,
   "metadata": {},
   "outputs": [
    {
     "name": "stdout",
     "output_type": "stream",
     "text": [
      "[[ 1.  0.  0.  0.]\n",
      " [ 0.  1.  0.  0.]\n",
      " [ 0.  0.  1.  0.]\n",
      " [ 0.  0.  0.  1.]]\n"
     ]
    }
   ],
   "source": [
    "a2 = np.identity(4)\n",
    "print(a2)"
   ]
  },
  {
   "cell_type": "code",
   "execution_count": 8,
   "metadata": {},
   "outputs": [
    {
     "name": "stdout",
     "output_type": "stream",
     "text": [
      "[[[0]\n",
      "  [1]]\n",
      "\n",
      " [[2]\n",
      "  [3]]\n",
      "\n",
      " [[4]\n",
      "  [5]]]\n",
      "[[[ 0  1  2  3]]\n",
      "\n",
      " [[ 4  5  6  7]]\n",
      "\n",
      " [[ 8  9 10 11]]]\n",
      "-----------------\n",
      "[[[ 0  0  0  0]\n",
      "  [ 0  1  2  3]]\n",
      "\n",
      " [[ 8 10 12 14]\n",
      "  [12 15 18 21]]\n",
      "\n",
      " [[32 36 40 44]\n",
      "  [40 45 50 55]]]\n",
      "[[[[ 0  0  0  0]\n",
      "   [ 0  0  0  0]\n",
      "   [ 0  0  0  0]]\n",
      "\n",
      "  [[ 0  1  2  3]\n",
      "   [ 4  5  6  7]\n",
      "   [ 8  9 10 11]]]\n",
      "\n",
      "\n",
      " [[[ 0  2  4  6]\n",
      "   [ 8 10 12 14]\n",
      "   [16 18 20 22]]\n",
      "\n",
      "  [[ 0  3  6  9]\n",
      "   [12 15 18 21]\n",
      "   [24 27 30 33]]]\n",
      "\n",
      "\n",
      " [[[ 0  4  8 12]\n",
      "   [16 20 24 28]\n",
      "   [32 36 40 44]]\n",
      "\n",
      "  [[ 0  5 10 15]\n",
      "   [20 25 30 35]\n",
      "   [40 45 50 55]]]]\n"
     ]
    }
   ],
   "source": [
    "\"\"\" `@` operator \"\"\"\n",
    "a = np.arange(6).reshape(3,2,1)\n",
    "b = np.arange(12).reshape(3,1,4)\n",
    "print(a)\n",
    "print(b)\n",
    "print('-----------------')\n",
    "print(a @ b)\n",
    "print(a.dot(b))"
   ]
  },
  {
   "cell_type": "code",
   "execution_count": 9,
   "metadata": {},
   "outputs": [
    {
     "name": "stdout",
     "output_type": "stream",
     "text": [
      "[[ 0.5         0.11920292  0.88079708  0.5       ]\n",
      " [ 0.5         0.88079708  0.11920292  0.5       ]]\n",
      "[[-1.          1.        ]\n",
      " [ 0.11920292  0.88079708]]\n"
     ]
    }
   ],
   "source": [
    "a = np.array([\n",
    "    [\n",
    "        [-1, -1,  1,  1.],\n",
    "        [-1,  1, -1,  1]\n",
    "    ],\n",
    "    [\n",
    "        [ 0.5, 0.11920292,  0.88079708,  0.5       ],\n",
    "        [ 0.5, 0.88079708,  0.11920292,  0.5       ]\n",
    "    ]\n",
    "])\n",
    "print(a[0:2][:][1])\n",
    "print(a[0:2, :, 1])"
   ]
  },
  {
   "cell_type": "code",
   "execution_count": 41,
   "metadata": {},
   "outputs": [
    {
     "name": "stdout",
     "output_type": "stream",
     "text": [
      "[[0 2]\n",
      " [2 4]]\n",
      "[[0 2]\n",
      " [2 4]]\n"
     ]
    }
   ],
   "source": [
    "import numpy as np\n",
    "\n",
    "a5 = np.array([\n",
    "    [0, 1],\n",
    "    [2, 3]\n",
    "])\n",
    "\n",
    "print(np.add(a5, 1, where=[0,1]))\n",
    "print(np.add(a5, 1, where=[[0,1]]))"
   ]
  }
 ],
 "metadata": {
  "kernelspec": {
   "display_name": "Python 3",
   "language": "python",
   "name": "python3"
  },
  "language_info": {
   "codemirror_mode": {
    "name": "ipython",
    "version": 3
   },
   "file_extension": ".py",
   "mimetype": "text/x-python",
   "name": "python",
   "nbconvert_exporter": "python",
   "pygments_lexer": "ipython3",
   "version": "3.5.2"
  }
 },
 "nbformat": 4,
 "nbformat_minor": 2
}
