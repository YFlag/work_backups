{
 "cells": [
  {
   "cell_type": "markdown",
   "metadata": {},
   "source": [
    "### Matplotlib-Style Data Sampling Tricks"
   ]
  },
  {
   "cell_type": "markdown",
   "metadata": {},
   "source": [
    "TODO: https://devdocs.io/numpy~1.14/routines.indexing"
   ]
  },
  {
   "cell_type": "code",
   "execution_count": 139,
   "metadata": {},
   "outputs": [
    {
     "name": "stdout",
     "output_type": "stream",
     "text": [
      "[[1 2]\n",
      " [1 2]\n",
      " [1 2]]\n",
      "[[3 3]\n",
      " [4 4]\n",
      " [5 5]]\n",
      "[[4 5]\n",
      " [5 6]\n",
      " [6 7]]\n"
     ]
    }
   ],
   "source": [
    "import numpy as np\n",
    "\n",
    "x = [1, 2]\n",
    "y = [3, 4, 5]\n",
    "\n",
    "\"\"\"                 → → →\n",
    "                    | ↖ |\n",
    "sampling direction: → → →\n",
    "\"\"\"\n",
    "xx1, yy1 = np.meshgrid(x, y)\n",
    "print(xx1)\n",
    "print(yy1)\n",
    "print(xx1 + yy1)"
   ]
  },
  {
   "cell_type": "code",
   "execution_count": 2,
   "metadata": {},
   "outputs": [
    {
     "name": "stdout",
     "output_type": "stream",
     "text": [
      "[[1 2]]\n",
      "[[3 4 5]]\n",
      "[[4 5 6]\n",
      " [5 6 7]]\n",
      "[[4 5]\n",
      " [5 6]\n",
      " [6 7]]\n"
     ]
    }
   ],
   "source": [
    "xx2, yy2 = np.atleast_2d(x, y)\n",
    "print(xx2)\n",
    "print(yy2)\n",
    "\n",
    "print(xx2.T + yy2)\n",
    "print(xx2 + yy2.T)"
   ]
  },
  {
   "cell_type": "code",
   "execution_count": 142,
   "metadata": {},
   "outputs": [
    {
     "name": "stdout",
     "output_type": "stream",
     "text": [
      "[[1 1 1]\n",
      " [2 2 2]]\n",
      "[[3 4 5]\n",
      " [3 4 5]]\n",
      "[[4 5 6]\n",
      " [5 6 7]]\n"
     ]
    }
   ],
   "source": [
    "\"\"\"                 ↑---↑---->\n",
    "                    ↑ ↘ ↑---->\n",
    "sampling direction: ↑---↑---->\n",
    "\"\"\"\n",
    "xx3, yy3 = np.mgrid[1:3, 3:6]\n",
    "print(xx3)\n",
    "print(yy3)\n",
    "print(xx3 + yy3)\n",
    "\n",
    "# xy3 = np.mgrid[-1:1:2/7, -1:1:2/3]\n",
    "# print(xy3)"
   ]
  },
  {
   "cell_type": "code",
   "execution_count": 143,
   "metadata": {},
   "outputs": [
    {
     "name": "stdout",
     "output_type": "stream",
     "text": [
      "[[1]\n",
      " [2]]\n",
      "[[3 4 5]]\n",
      "[[4 5 6]\n",
      " [5 6 7]]\n"
     ]
    }
   ],
   "source": [
    "\"\"\" ditto \"\"\"\n",
    "xx4, yy4 = np.ogrid[1:3, 3:6]\n",
    "print(xx4)\n",
    "print(yy4)\n",
    "print(xx4 + yy4)"
   ]
  },
  {
   "cell_type": "code",
   "execution_count": 177,
   "metadata": {},
   "outputs": [
    {
     "name": "stdout",
     "output_type": "stream",
     "text": [
      "[[1]\n",
      " [2]]\n",
      "[[3 4 5]]\n",
      "[[4 5 6]\n",
      " [5 6 7]]\n"
     ]
    }
   ],
   "source": [
    "\"\"\" ditto \"\"\"\n",
    "xx6, yy6 = np.ix_(x,y)\n",
    "print(xx6)\n",
    "print(yy6)\n",
    "print(xx6 + yy6)"
   ]
  },
  {
   "cell_type": "code",
   "execution_count": 176,
   "metadata": {},
   "outputs": [
    {
     "name": "stdout",
     "output_type": "stream",
     "text": [
      "[[0 0 0]\n",
      " [1 1 1]]\n",
      "[[0 1 2]\n",
      " [0 1 2]]\n",
      "[[0 1 2]\n",
      " [1 2 3]]\n"
     ]
    }
   ],
   "source": [
    "\"\"\" ditto \"\"\"\n",
    "xx5, yy5 = np.indices((2,3))\n",
    "print(xx5)\n",
    "print(yy5)\n",
    "print(xx5 + yy5)"
   ]
  },
  {
   "cell_type": "markdown",
   "metadata": {},
   "source": [
    "### Numpy-Style Data Sampling Tricks"
   ]
  },
  {
   "cell_type": "code",
   "execution_count": 5,
   "metadata": {},
   "outputs": [
    {
     "name": "stdout",
     "output_type": "stream",
     "text": [
      "[[1 3]\n",
      " [1 4]\n",
      " [1 5]\n",
      " [2 3]\n",
      " [2 4]\n",
      " [2 5]]\n"
     ]
    }
   ],
   "source": [
    "xy5 = np.column_stack([\n",
    "    np.repeat(x, len(y)),\n",
    "    np.tile(y, len(x)),\n",
    "])\n",
    "print(xy5)"
   ]
  },
  {
   "cell_type": "markdown",
   "metadata": {},
   "source": [
    "### Array Joining\n",
    "| method name | input requirements | create new axis? |\n",
    "| - | - | - |\n",
    "| `[v\\|h\\|d]stack` | similar | not necessary |\n",
    "| `[row\\|column]_stack` | ditto aproximately |\n",
    "| `concatenate`/`append` | **same except one dim** | no |\n",
    "| `stack` | **must same** | **force** |\n",
    "| `insert` | `slice=values` **is valid** | **cannot** |"
   ]
  },
  {
   "cell_type": "markdown",
   "metadata": {},
   "source": [
    "[h|v|d]stack & [row|column]_stack in 2D"
   ]
  },
  {
   "cell_type": "code",
   "execution_count": 170,
   "metadata": {},
   "outputs": [
    {
     "name": "stdout",
     "output_type": "stream",
     "text": [
      "0-------\n",
      " [[ 0  1]\n",
      " [ 2  3]\n",
      " [-1 -1]]\n",
      "1-------\n",
      " [[ 0  1 -1]\n",
      " [ 2  3 -1]]\n",
      "2-------\n",
      " [[ 0  1]\n",
      " [ 2  3]\n",
      " [-1 -1]]\n",
      "3-------\n",
      " [[ 0  1 -1]\n",
      " [ 2  3 -1]]\n"
     ]
    }
   ],
   "source": [
    "import numpy as np\n",
    "\n",
    "a = np.arange(4).reshape(2,2)\n",
    "b = [-1] * 2\n",
    "ab = np.row_stack((a,b))\n",
    "print('0-------\\n', ab)\n",
    "\n",
    "ab1 = np.column_stack((a,b))\n",
    "print('1-------\\n', ab1)\n",
    "\n",
    "ab2 = np.vstack((a,b))\n",
    "print('2-------\\n', ab2)\n",
    "# error!\n",
    "# ab3 = np.hstack((a,b))\n",
    "\n",
    "ab3 = np.c_[a,b]\n",
    "print('3-------\\n', ab3)"
   ]
  },
  {
   "cell_type": "markdown",
   "metadata": {},
   "source": [
    "[h|v|d]stack & [row|column]_stack in 3D"
   ]
  },
  {
   "cell_type": "code",
   "execution_count": 154,
   "metadata": {},
   "outputs": [
    {
     "name": "stdout",
     "output_type": "stream",
     "text": [
      "[[[ 0  1]\n",
      "  [ 2  3]]\n",
      "\n",
      " [[ 4  5]\n",
      "  [ 6  7]]\n",
      "\n",
      " [[ 8  9]\n",
      "  [10 11]]]\n",
      "[[2 3]\n",
      " [4 5]\n",
      " [6 7]]\n"
     ]
    },
    {
     "ename": "ValueError",
     "evalue": "all the input arrays must have same number of dimensions",
     "output_type": "error",
     "traceback": [
      "\u001b[0;31m---------------------------------------------------------------------------\u001b[0m",
      "\u001b[0;31mValueError\u001b[0m                                Traceback (most recent call last)",
      "\u001b[0;32m<ipython-input-154-e1a42e9c5544>\u001b[0m in \u001b[0;36m<module>\u001b[0;34m()\u001b[0m\n\u001b[1;32m      6\u001b[0m \u001b[0mprint\u001b[0m\u001b[0;34m(\u001b[0m\u001b[0mb\u001b[0m\u001b[0;34m)\u001b[0m\u001b[0;34m\u001b[0m\u001b[0m\n\u001b[1;32m      7\u001b[0m \u001b[0;31m# ab = np.column_stack((a,b))\u001b[0m\u001b[0;34m\u001b[0m\u001b[0;34m\u001b[0m\u001b[0m\n\u001b[0;32m----> 8\u001b[0;31m \u001b[0mab1\u001b[0m \u001b[0;34m=\u001b[0m \u001b[0mnp\u001b[0m\u001b[0;34m.\u001b[0m\u001b[0mrow_stack\u001b[0m\u001b[0;34m(\u001b[0m\u001b[0;34m(\u001b[0m\u001b[0ma\u001b[0m\u001b[0;34m.\u001b[0m\u001b[0mreshape\u001b[0m\u001b[0;34m(\u001b[0m\u001b[0;36m2\u001b[0m\u001b[0;34m,\u001b[0m\u001b[0;36m3\u001b[0m\u001b[0;34m,\u001b[0m\u001b[0;36m2\u001b[0m\u001b[0;34m)\u001b[0m\u001b[0;34m,\u001b[0m \u001b[0mb\u001b[0m\u001b[0;34m)\u001b[0m\u001b[0;34m)\u001b[0m\u001b[0;34m\u001b[0m\u001b[0m\n\u001b[0m",
      "\u001b[0;32m/usr/local/lib/python3.5/dist-packages/numpy/core/shape_base.py\u001b[0m in \u001b[0;36mvstack\u001b[0;34m(tup)\u001b[0m\n\u001b[1;32m    235\u001b[0m \u001b[0;34m\u001b[0m\u001b[0m\n\u001b[1;32m    236\u001b[0m     \"\"\"\n\u001b[0;32m--> 237\u001b[0;31m     \u001b[0;32mreturn\u001b[0m \u001b[0m_nx\u001b[0m\u001b[0;34m.\u001b[0m\u001b[0mconcatenate\u001b[0m\u001b[0;34m(\u001b[0m\u001b[0;34m[\u001b[0m\u001b[0matleast_2d\u001b[0m\u001b[0;34m(\u001b[0m\u001b[0m_m\u001b[0m\u001b[0;34m)\u001b[0m \u001b[0;32mfor\u001b[0m \u001b[0m_m\u001b[0m \u001b[0;32min\u001b[0m \u001b[0mtup\u001b[0m\u001b[0;34m]\u001b[0m\u001b[0;34m,\u001b[0m \u001b[0;36m0\u001b[0m\u001b[0;34m)\u001b[0m\u001b[0;34m\u001b[0m\u001b[0m\n\u001b[0m\u001b[1;32m    238\u001b[0m \u001b[0;34m\u001b[0m\u001b[0m\n\u001b[1;32m    239\u001b[0m \u001b[0;32mdef\u001b[0m \u001b[0mhstack\u001b[0m\u001b[0;34m(\u001b[0m\u001b[0mtup\u001b[0m\u001b[0;34m)\u001b[0m\u001b[0;34m:\u001b[0m\u001b[0;34m\u001b[0m\u001b[0m\n",
      "\u001b[0;31mValueError\u001b[0m: all the input arrays must have same number of dimensions"
     ]
    }
   ],
   "source": [
    "import numpy as np\n",
    "\n",
    "a = np.arange(0,12).reshape(3,2,2)\n",
    "b = np.arange(2,8).reshape(3,2)\n",
    "print(a)\n",
    "print(b)\n",
    "# error!\n",
    "# ab = np.column_stack((a,b))\n",
    "ab1 = np.row_stack((a.reshape(2,3,2), b))"
   ]
  },
  {
   "cell_type": "code",
   "execution_count": 152,
   "metadata": {},
   "outputs": [
    {
     "name": "stdout",
     "output_type": "stream",
     "text": [
      "[[[0 1]\n",
      "  [2 3]]\n",
      "\n",
      " [[4 5]\n",
      "  [6 7]]]\n",
      "[[0 1]\n",
      " [2 3]]\n"
     ]
    },
    {
     "ename": "ValueError",
     "evalue": "all the input arrays must have same number of dimensions",
     "output_type": "error",
     "traceback": [
      "\u001b[0;31m---------------------------------------------------------------------------\u001b[0m",
      "\u001b[0;31mValueError\u001b[0m                                Traceback (most recent call last)",
      "\u001b[0;32m<ipython-input-152-141ce3018725>\u001b[0m in \u001b[0;36m<module>\u001b[0;34m()\u001b[0m\n\u001b[1;32m      5\u001b[0m \u001b[0mprint\u001b[0m\u001b[0;34m(\u001b[0m\u001b[0ma\u001b[0m\u001b[0;34m)\u001b[0m\u001b[0;34m\u001b[0m\u001b[0m\n\u001b[1;32m      6\u001b[0m \u001b[0mprint\u001b[0m\u001b[0;34m(\u001b[0m\u001b[0mb\u001b[0m\u001b[0;34m)\u001b[0m\u001b[0;34m\u001b[0m\u001b[0m\n\u001b[0;32m----> 7\u001b[0;31m \u001b[0mab\u001b[0m \u001b[0;34m=\u001b[0m \u001b[0mnp\u001b[0m\u001b[0;34m.\u001b[0m\u001b[0mvstack\u001b[0m\u001b[0;34m(\u001b[0m\u001b[0;34m(\u001b[0m\u001b[0ma\u001b[0m\u001b[0;34m,\u001b[0m\u001b[0mb\u001b[0m\u001b[0;34m)\u001b[0m\u001b[0;34m)\u001b[0m\u001b[0;34m\u001b[0m\u001b[0m\n\u001b[0m\u001b[1;32m      8\u001b[0m \u001b[0mprint\u001b[0m\u001b[0;34m(\u001b[0m\u001b[0;34m'0------------\\n'\u001b[0m\u001b[0;34m,\u001b[0m \u001b[0mab\u001b[0m\u001b[0;34m)\u001b[0m\u001b[0;34m\u001b[0m\u001b[0m\n\u001b[1;32m      9\u001b[0m \u001b[0;31m# ab1 = np.stack((a,b))\u001b[0m\u001b[0;34m\u001b[0m\u001b[0;34m\u001b[0m\u001b[0m\n",
      "\u001b[0;32m/usr/local/lib/python3.5/dist-packages/numpy/core/shape_base.py\u001b[0m in \u001b[0;36mvstack\u001b[0;34m(tup)\u001b[0m\n\u001b[1;32m    235\u001b[0m \u001b[0;34m\u001b[0m\u001b[0m\n\u001b[1;32m    236\u001b[0m     \"\"\"\n\u001b[0;32m--> 237\u001b[0;31m     \u001b[0;32mreturn\u001b[0m \u001b[0m_nx\u001b[0m\u001b[0;34m.\u001b[0m\u001b[0mconcatenate\u001b[0m\u001b[0;34m(\u001b[0m\u001b[0;34m[\u001b[0m\u001b[0matleast_2d\u001b[0m\u001b[0;34m(\u001b[0m\u001b[0m_m\u001b[0m\u001b[0;34m)\u001b[0m \u001b[0;32mfor\u001b[0m \u001b[0m_m\u001b[0m \u001b[0;32min\u001b[0m \u001b[0mtup\u001b[0m\u001b[0;34m]\u001b[0m\u001b[0;34m,\u001b[0m \u001b[0;36m0\u001b[0m\u001b[0;34m)\u001b[0m\u001b[0;34m\u001b[0m\u001b[0m\n\u001b[0m\u001b[1;32m    238\u001b[0m \u001b[0;34m\u001b[0m\u001b[0m\n\u001b[1;32m    239\u001b[0m \u001b[0;32mdef\u001b[0m \u001b[0mhstack\u001b[0m\u001b[0;34m(\u001b[0m\u001b[0mtup\u001b[0m\u001b[0;34m)\u001b[0m\u001b[0;34m:\u001b[0m\u001b[0;34m\u001b[0m\u001b[0m\n",
      "\u001b[0;31mValueError\u001b[0m: all the input arrays must have same number of dimensions"
     ]
    }
   ],
   "source": [
    "import numpy as np\n",
    "\n",
    "a = np.arange(8).reshape(2,2,2)\n",
    "b = np.arange(4).reshape(2,2)\n",
    "print(a)\n",
    "print(b)\n",
    "ab = np.vstack((a,b))\n",
    "print('0------------\\n', ab)\n",
    "# ab1 = np.hstack((a,b))\n",
    "# error!\n",
    "# ab2 = np.stack((a,b), 1)"
   ]
  },
  {
   "cell_type": "code",
   "execution_count": 155,
   "metadata": {},
   "outputs": [
    {
     "name": "stdout",
     "output_type": "stream",
     "text": [
      "0------\n",
      " [[0 1 2 3]\n",
      " [4 5 6 7]\n",
      " [5 6 7 8]]\n",
      "1------\n",
      " [[0 1 2 3]\n",
      " [4 5 6 7]\n",
      " [5 6 7 8]]\n",
      "2------\n",
      " [[[0 1]\n",
      "  [2 3]]\n",
      "\n",
      " [[4 5]\n",
      "  [6 7]]\n",
      "\n",
      " [[5 6]\n",
      "  [7 8]]]\n",
      "5------\n",
      " [[[0 1]\n",
      "  [2 3]\n",
      "  [5 6]]\n",
      "\n",
      " [[4 5]\n",
      "  [6 7]\n",
      "  [7 8]]]\n"
     ]
    }
   ],
   "source": [
    "import numpy as np\n",
    "\n",
    "a = np.arange(8).reshape(2,4)\n",
    "b = np.arange(5,9)\n",
    "ab = np.vstack((a,b))\n",
    "print('0------\\n', ab)\n",
    "ab1 = np.vstack((a,b.reshape(1,4)))\n",
    "print('1------\\n', ab1)\n",
    "ab2 = np.vstack((a.reshape(2,2,2),b.reshape(1,2,2)))\n",
    "print('2------\\n', ab4)\n",
    "# error!\n",
    "# ab4 = np.vstack((a.reshape(2,2,2),b.reshape(2,1,2)))\n",
    "ab5 = np.hstack((a.reshape(2,2,2),b.reshape(2,1,2)))\n",
    "print('5------\\n', ab5)"
   ]
  },
  {
   "cell_type": "markdown",
   "metadata": {},
   "source": [
    "Stack"
   ]
  },
  {
   "cell_type": "code",
   "execution_count": 148,
   "metadata": {},
   "outputs": [
    {
     "name": "stdout",
     "output_type": "stream",
     "text": [
      "0----------\n",
      " [[1 2 3]\n",
      " [4 5 6]]\n",
      "1----------\n",
      "[[1 4]\n",
      " [2 5]\n",
      " [3 6]]\n",
      "[[2 5]\n",
      " [3 6]\n",
      " [4 7]]\n",
      "2----------\n",
      "[[1 4 2 5]\n",
      " [2 5 3 6]\n",
      " [3 6 4 7]]\n",
      "[[[1 4]\n",
      "  [2 5]]\n",
      "\n",
      " [[2 5]\n",
      "  [3 6]]\n",
      "\n",
      " [[3 6]\n",
      "  [4 7]]]\n",
      "[array([[1, 4],\n",
      "       [2, 5]]), array([[3, 6],\n",
      "       [2, 5]]), array([[3, 6],\n",
      "       [4, 7]])]\n"
     ]
    }
   ],
   "source": [
    "import numpy as np\n",
    "\n",
    "a = np.array([1, 2, 3])\n",
    "b = np.array([4, 5, 6])\n",
    "ab = np.stack((a,b), 0)\n",
    "print('0----------\\n', ab)\n",
    "\n",
    "ab1 = np.stack((a,b), axis=1)\n",
    "ab2 = ab1 + 1\n",
    "print('1----------')\n",
    "print(ab1)\n",
    "print(ab2)\n",
    "\n",
    "print('2----------')\n",
    "print(np.concatenate((ab1, ab2), axis=1))\n",
    "print(np.stack((ab1, ab2), axis=1))\n",
    "ab3 = np.concatenate((ab1, ab2), axis=0)\n",
    "print(np.split(ab3, 3))"
   ]
  },
  {
   "cell_type": "markdown",
   "metadata": {},
   "source": [
    "Newing axis with custom data."
   ]
  },
  {
   "cell_type": "code",
   "execution_count": 163,
   "metadata": {},
   "outputs": [
    {
     "name": "stdout",
     "output_type": "stream",
     "text": [
      "1--------\n",
      " [[ 0.   0.2]\n",
      " [ 1.   0.5]\n",
      " [ 2.  -1.1]]\n",
      "2--------\n",
      " [[ 0.   0.3  0.2]\n",
      " [ 1.   0.6  0.5]\n",
      " [ 2.  -0.9 -1.1]]\n",
      "3--------\n",
      " [[[ 0.   0.3]\n",
      "  [ 0.   0.2]]\n",
      "\n",
      " [[ 1.   0.6]\n",
      "  [ 1.   0.5]]\n",
      "\n",
      " [[ 2.  -0.9]\n",
      "  [ 2.  -1.1]]]\n",
      "4-------\n",
      " [[[ 0.   0.3]\n",
      "  [ 0.   0.2]]\n",
      "\n",
      " [[ 1.   0.6]\n",
      "  [ 1.   0.5]]\n",
      "\n",
      " [[ 2.  -0.9]\n",
      "  [ 2.  -1.1]]]\n",
      "[[[ 0.   0.3]\n",
      "  [ 1.   0.6]\n",
      "  [ 2.  -0.9]]\n",
      "\n",
      " [[ 0.   0.2]\n",
      "  [ 1.   0.5]\n",
      "  [ 2.  -1.1]]]\n",
      "5--------\n",
      " [[ 0.3  0.2]\n",
      " [ 0.6  0.5]\n",
      " [-0.9 -1.1]\n",
      " [ 0.   1. ]]\n"
     ]
    }
   ],
   "source": [
    "import numpy as np\n",
    "\n",
    "\"\"\"\n",
    "method 1: np.newaxis + np.insert\n",
    "method 2: np.stack\n",
    "\"\"\"\n",
    "a = np.array([\n",
    "    [0.3,0.2], [0.6, 0.5], [-0.9, -1.1]\n",
    "])\n",
    "# print('0--------\\n', a)\n",
    "\n",
    "a1 = a.copy()\n",
    "a1[:, 0] = np.arange(3)[:]\n",
    "print('1--------\\n', a1)\n",
    "\n",
    "a2 = np.insert(\n",
    "    a[:, :], \n",
    "    0, # (3,)\n",
    "    values=np.arange(3)[:], # (3,)\n",
    "    axis=-1\n",
    ")\n",
    "print('2--------\\n', a2)\n",
    "\n",
    "a3 = np.stack([\n",
    "    np.broadcast_to(range(3),(2,3)).T, a \n",
    "], axis=2)\n",
    "print('3--------\\n', a3)\n",
    "\n",
    "a4 = np.insert(\n",
    "    a[:, :, np.newaxis], \n",
    "    0, \n",
    "    values=np.arange(3)[:, np.newaxis], \n",
    "    axis=-1\n",
    ")\n",
    "print('4-------\\n', a4)\n",
    "\n",
    "print(np.transpose(a4, (1, 0, 2)))\n",
    "\n",
    "a5 = np.append(a, [range(2)], 0)\n",
    "print('5--------\\n', a5)"
   ]
  },
  {
   "cell_type": "markdown",
   "metadata": {},
   "source": [
    "### Miscellaneous"
   ]
  },
  {
   "cell_type": "code",
   "execution_count": 6,
   "metadata": {},
   "outputs": [
    {
     "name": "stdout",
     "output_type": "stream",
     "text": [
      "[[ 0.  0.  0.  0.]\n",
      " [ 0.  0.  0.  0.]\n",
      " [ 0.  0.  0.  0.]\n",
      " [ 0.  0.  0.  0.]]\n",
      "[[ 1.  0.  0.  0.]\n",
      " [ 0.  1.  0.  0.]\n",
      " [ 0.  0.  1.  0.]\n",
      " [ 0.  0.  0.  1.]]\n"
     ]
    }
   ],
   "source": [
    "\"\"\" one-hot array encoding or generation. \"\"\"\n",
    "a1 = np.array([0, 1, 2, 3])\n",
    "b1 = np.zeros((a1.size, a1.max() + 1))\n",
    "print(b1)\n",
    "b1[np.arange(a1.size), a1] = 1\n",
    "print(b1)"
   ]
  },
  {
   "cell_type": "code",
   "execution_count": 7,
   "metadata": {},
   "outputs": [
    {
     "name": "stdout",
     "output_type": "stream",
     "text": [
      "[[ 1.  0.  0.  0.]\n",
      " [ 0.  1.  0.  0.]\n",
      " [ 0.  0.  1.  0.]\n",
      " [ 0.  0.  0.  1.]]\n"
     ]
    }
   ],
   "source": [
    "a2 = np.identity(4)\n",
    "print(a2)"
   ]
  },
  {
   "cell_type": "code",
   "execution_count": 8,
   "metadata": {},
   "outputs": [
    {
     "name": "stdout",
     "output_type": "stream",
     "text": [
      "[[[0]\n",
      "  [1]]\n",
      "\n",
      " [[2]\n",
      "  [3]]\n",
      "\n",
      " [[4]\n",
      "  [5]]]\n",
      "[[[ 0  1  2  3]]\n",
      "\n",
      " [[ 4  5  6  7]]\n",
      "\n",
      " [[ 8  9 10 11]]]\n",
      "-----------------\n",
      "[[[ 0  0  0  0]\n",
      "  [ 0  1  2  3]]\n",
      "\n",
      " [[ 8 10 12 14]\n",
      "  [12 15 18 21]]\n",
      "\n",
      " [[32 36 40 44]\n",
      "  [40 45 50 55]]]\n",
      "[[[[ 0  0  0  0]\n",
      "   [ 0  0  0  0]\n",
      "   [ 0  0  0  0]]\n",
      "\n",
      "  [[ 0  1  2  3]\n",
      "   [ 4  5  6  7]\n",
      "   [ 8  9 10 11]]]\n",
      "\n",
      "\n",
      " [[[ 0  2  4  6]\n",
      "   [ 8 10 12 14]\n",
      "   [16 18 20 22]]\n",
      "\n",
      "  [[ 0  3  6  9]\n",
      "   [12 15 18 21]\n",
      "   [24 27 30 33]]]\n",
      "\n",
      "\n",
      " [[[ 0  4  8 12]\n",
      "   [16 20 24 28]\n",
      "   [32 36 40 44]]\n",
      "\n",
      "  [[ 0  5 10 15]\n",
      "   [20 25 30 35]\n",
      "   [40 45 50 55]]]]\n"
     ]
    }
   ],
   "source": [
    "\"\"\" `@` operator \"\"\"\n",
    "a = np.arange(6).reshape(3,2,1)\n",
    "b = np.arange(12).reshape(3,1,4)\n",
    "print(a)\n",
    "print(b)\n",
    "print('-----------------')\n",
    "print(a @ b)\n",
    "print(a.dot(b))"
   ]
  },
  {
   "cell_type": "code",
   "execution_count": 9,
   "metadata": {},
   "outputs": [
    {
     "name": "stdout",
     "output_type": "stream",
     "text": [
      "[[ 0.5         0.11920292  0.88079708  0.5       ]\n",
      " [ 0.5         0.88079708  0.11920292  0.5       ]]\n",
      "[[-1.          1.        ]\n",
      " [ 0.11920292  0.88079708]]\n"
     ]
    }
   ],
   "source": [
    "a = np.array([\n",
    "    [\n",
    "        [-1, -1,  1,  1.],\n",
    "        [-1,  1, -1,  1]\n",
    "    ],\n",
    "    [\n",
    "        [ 0.5, 0.11920292,  0.88079708,  0.5       ],\n",
    "        [ 0.5, 0.88079708,  0.11920292,  0.5       ]\n",
    "    ]\n",
    "])\n",
    "print(a[0:2][:][1])\n",
    "print(a[0:2, :, 1])"
   ]
  },
  {
   "cell_type": "code",
   "execution_count": 166,
   "metadata": {},
   "outputs": [
    {
     "name": "stdout",
     "output_type": "stream",
     "text": [
      "[[0 2]\n",
      " [2 4]]\n",
      "[[0 2]\n",
      " [2 4]]\n",
      "[[0 2]\n",
      " [2 4]]\n",
      "[[0 2]\n",
      " [2 4]]\n"
     ]
    }
   ],
   "source": [
    "import numpy as np\n",
    "\n",
    "a = np.array([\n",
    "    [0, 1],\n",
    "    [2, 3]\n",
    "])\n",
    "\n",
    "print(np.add(a, 1, where=[0,1]))\n",
    "print(np.add(a, 1, where=[[0,1]]))\n",
    "print(a+[0, 1])\n",
    "a1 = a.copy()\n",
    "a1[:, 1] += 1\n",
    "print(a1)"
   ]
  },
  {
   "cell_type": "code",
   "execution_count": 167,
   "metadata": {},
   "outputs": [
    {
     "name": "stdout",
     "output_type": "stream",
     "text": [
      "0--------\n",
      " [[[0]\n",
      "  [1]]\n",
      "\n",
      " [[2]\n",
      "  [3]]\n",
      "\n",
      " [[4]\n",
      "  [5]]]\n",
      "[[3]\n",
      " [4]\n",
      " [5]]\n",
      "1--------\n",
      " [[[3]\n",
      "  [3]]\n",
      "\n",
      " [[4]\n",
      "  [4]]\n",
      "\n",
      " [[5]\n",
      "  [5]]]\n",
      "2--------\n",
      " [[3 3]\n",
      " [4 4]\n",
      " [5 5]]\n"
     ]
    }
   ],
   "source": [
    "import numpy as np\n",
    "\n",
    "a = np.arange(6).reshape(3,2,1)\n",
    "b = np.arange(3,6).reshape(3,1)\n",
    "print('0--------\\n', a)\n",
    "print(b)\n",
    "\n",
    "a1 = a.copy()\n",
    "a1[:, :, 0] = b\n",
    "print('1--------\\n', a1)\n",
    "\n",
    "a2 = a.reshape(3,2)\n",
    "a2[:, :] = b\n",
    "print('2--------\\n', a2)"
   ]
  },
  {
   "cell_type": "code",
   "execution_count": 99,
   "metadata": {},
   "outputs": [
    {
     "name": "stdout",
     "output_type": "stream",
     "text": [
      "0-------\n",
      " [0 1 2]\n",
      "[[4]]\n",
      "1-------\n",
      " [4 4 4]\n",
      "2-------\n",
      " [[4 4 4]]\n",
      "3-------\n",
      " [4 4 4]\n"
     ]
    }
   ],
   "source": [
    "\"\"\" broadcasting when assigning will not change dims of original arr. \"\"\"\n",
    "import numpy as np\n",
    "\n",
    "a = np.arange(3)\n",
    "b = np.array(4).reshape(1,1)\n",
    "print('0-------\\n', a)\n",
    "print(b)\n",
    "\n",
    "a1 = a.copy()\n",
    "a1[:] = b\n",
    "print('1-------\\n', a1)\n",
    "\n",
    "a2 = a.reshape(1,3)\n",
    "a2[:] = b\n",
    "print('2-------\\n', a2)\n",
    "\n",
    "a3 = a.copy()\n",
    "b1 = b.reshape(1,1,1)\n",
    "a3[:] = b1\n",
    "print('3-------\\n', a3)"
   ]
  },
  {
   "cell_type": "markdown",
   "metadata": {},
   "source": [
    "### Indexing"
   ]
  },
  {
   "cell_type": "code",
   "execution_count": 180,
   "metadata": {},
   "outputs": [
    {
     "name": "stdout",
     "output_type": "stream",
     "text": [
      "[ True False False False  True]\n",
      "(array([0, 4]),)\n",
      "[[ 1.  0.  0.  0.]\n",
      " [ 1.  0.  0.  0.]]\n",
      "[[ 1.  0.  0.  0.]\n",
      " [ 1.  0.  0.  0.]]\n"
     ]
    }
   ],
   "source": [
    "import numpy as np\n",
    "\n",
    "a = np.array([[1., 0., 0., 0.],\n",
    "       [0., 1., 0., 0.],\n",
    "       [0., 0., 1., 0.],\n",
    "       [0., 0., 0., 1.],\n",
    "       [1., 0., 0., 0.]])\n",
    "print(np.argmax(a,1)==0)\n",
    "print(np.where(np.argmax(a,1)==0))\n",
    "print(a[np.argmax(a,1)==0])\n",
    "print(a[np.where(np.argmax(a,1)==0)])"
   ]
  },
  {
   "cell_type": "code",
   "execution_count": 183,
   "metadata": {},
   "outputs": [
    {
     "name": "stdout",
     "output_type": "stream",
     "text": [
      "[2 4]\n"
     ]
    }
   ],
   "source": [
    "import numpy as np\n",
    "\n",
    "a = np.array([1,2,3,4,5])\n",
    "# error!\n",
    "# a = range(1,6)\n",
    "print(a[a % 2 == 0])"
   ]
  }
 ],
 "metadata": {
  "kernelspec": {
   "display_name": "Python 3",
   "language": "python",
   "name": "python3"
  },
  "language_info": {
   "codemirror_mode": {
    "name": "ipython",
    "version": 3
   },
   "file_extension": ".py",
   "mimetype": "text/x-python",
   "name": "python",
   "nbconvert_exporter": "python",
   "pygments_lexer": "ipython3",
   "version": "3.5.2"
  }
 },
 "nbformat": 4,
 "nbformat_minor": 2
}
