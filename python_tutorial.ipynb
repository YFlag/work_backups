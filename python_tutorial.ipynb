{
 "cells": [
  {
   "cell_type": "markdown",
   "metadata": {},
   "source": [
    "### Class"
   ]
  },
  {
   "cell_type": "code",
   "execution_count": 15,
   "metadata": {
    "scrolled": true
   },
   "outputs": [],
   "source": [
    "class A():\n",
    "    def __init__(self):\n",
    "        self.v = 'v'\n",
    "    \n",
    "    def f(self):\n",
    "        print('v' in locals())\n",
    "        print('self.v' in locals())\n",
    "        print('v' in globals())\n",
    "        print('self.v' in globals())\n",
    "        print(hasattr(self, 'v'))\n",
    "        \n",
    "    def f1(a, b=2, self=None):\n",
    "        print('f1', a, b, self)\n",
    "        if self: print(self.v)\n",
    "        print(hasattr(A, 'v'))\n",
    "        \n",
    "    def f2(self=None, p=None):\n",
    "        print('f2', self, isinstance(self, A), p)\n",
    "        \n",
    "    def __f3(self): \n",
    "        print('f3')\n",
    "        \n",
    "    def f4(self):\n",
    "        print(hasattr(self, '__f3'))\n",
    "        print(self.__f3)\n",
    "        print(hasattr(self, '_A__f3'))\n",
    "        self.__f3()\n",
    "        \n",
    "    def f5():\n",
    "        print('f5')\n",
    "        \n",
    "    def f6(self):\n",
    "        print(b)\n",
    "        print(self.f7)\n",
    "        \n",
    "    def f7(self):\n",
    "        pass\n",
    "        \n",
    "a = A()\n",
    "# a.f()\n",
    "# A.f1(1)\n",
    "# a.f1(1)\n",
    "# a.f4()"
   ]
  },
  {
   "cell_type": "code",
   "execution_count": 69,
   "metadata": {},
   "outputs": [
    {
     "name": "stdout",
     "output_type": "stream",
     "text": [
      "f2 None False None\n",
      "f2 <__main__.A object at 0x7f6056f9e358> True None\n",
      "f2 1 False None\n",
      "f2 <__main__.A object at 0x7f6056f9e358> True 2\n"
     ]
    }
   ],
   "source": [
    "A.f2()\n",
    "a.f2()\n",
    "A.f2(1)\n",
    "a.f2(2)"
   ]
  },
  {
   "cell_type": "code",
   "execution_count": 71,
   "metadata": {
    "scrolled": true
   },
   "outputs": [
    {
     "ename": "TypeError",
     "evalue": "f5() takes 0 positional arguments but 1 was given",
     "output_type": "error",
     "traceback": [
      "\u001b[0;31m---------------------------------------------------------------------------\u001b[0m",
      "\u001b[0;31mTypeError\u001b[0m                                 Traceback (most recent call last)",
      "\u001b[0;32m<ipython-input-71-e6da9ba6e450>\u001b[0m in \u001b[0;36m<module>\u001b[0;34m()\u001b[0m\n\u001b[0;32m----> 1\u001b[0;31m \u001b[0ma\u001b[0m\u001b[0;34m.\u001b[0m\u001b[0mf5\u001b[0m\u001b[0;34m(\u001b[0m\u001b[0;34m)\u001b[0m\u001b[0;34m\u001b[0m\u001b[0m\n\u001b[0m",
      "\u001b[0;31mTypeError\u001b[0m: f5() takes 0 positional arguments but 1 was given"
     ]
    }
   ],
   "source": [
    "a.f5()"
   ]
  },
  {
   "cell_type": "code",
   "execution_count": 9,
   "metadata": {},
   "outputs": [
    {
     "name": "stdout",
     "output_type": "stream",
     "text": [
      "-1\n"
     ]
    }
   ],
   "source": [
    "b = -1\n",
    "a.f6()"
   ]
  },
  {
   "cell_type": "code",
   "execution_count": 16,
   "metadata": {},
   "outputs": [
    {
     "name": "stdout",
     "output_type": "stream",
     "text": [
      "-1\n",
      "<bound method A.f7 of <__main__.A object at 0x7f42500bff28>>\n"
     ]
    }
   ],
   "source": [
    "a.f6()"
   ]
  },
  {
   "cell_type": "code",
   "execution_count": 19,
   "metadata": {},
   "outputs": [
    {
     "name": "stdout",
     "output_type": "stream",
     "text": [
      "1\n"
     ]
    },
    {
     "ename": "AttributeError",
     "evalue": "'A' object has no attribute 'v1'",
     "output_type": "error",
     "traceback": [
      "\u001b[0;31m---------------------------------------------------------------------------\u001b[0m",
      "\u001b[0;31mAttributeError\u001b[0m                            Traceback (most recent call last)",
      "\u001b[0;32m<ipython-input-19-959f35d98bd5>\u001b[0m in \u001b[0;36m<module>\u001b[0;34m()\u001b[0m\n\u001b[1;32m      3\u001b[0m \u001b[0ma1\u001b[0m\u001b[0;34m.\u001b[0m\u001b[0mv1\u001b[0m \u001b[0;34m=\u001b[0m \u001b[0;36m1\u001b[0m\u001b[0;34m\u001b[0m\u001b[0m\n\u001b[1;32m      4\u001b[0m \u001b[0mprint\u001b[0m\u001b[0;34m(\u001b[0m\u001b[0ma1\u001b[0m\u001b[0;34m.\u001b[0m\u001b[0mv1\u001b[0m\u001b[0;34m)\u001b[0m\u001b[0;34m\u001b[0m\u001b[0m\n\u001b[0;32m----> 5\u001b[0;31m \u001b[0mprint\u001b[0m\u001b[0;34m(\u001b[0m\u001b[0ma2\u001b[0m\u001b[0;34m.\u001b[0m\u001b[0mv1\u001b[0m\u001b[0;34m)\u001b[0m\u001b[0;34m\u001b[0m\u001b[0m\n\u001b[0m",
      "\u001b[0;31mAttributeError\u001b[0m: 'A' object has no attribute 'v1'"
     ]
    }
   ],
   "source": [
    "a1 = A()\n",
    "a2 = A()\n",
    "a1.v1 = 1\n",
    "print(a1.v1)\n",
    "print(a2.v1)"
   ]
  },
  {
   "cell_type": "markdown",
   "metadata": {},
   "source": [
    "### Global Object"
   ]
  },
  {
   "cell_type": "code",
   "execution_count": 1,
   "metadata": {},
   "outputs": [
    {
     "name": "stdout",
     "output_type": "stream",
     "text": [
      "139922960815216\n"
     ]
    }
   ],
   "source": [
    "global var\n",
    "# print(id(var))\n",
    "var = object()\n",
    "print(id(var))"
   ]
  },
  {
   "cell_type": "code",
   "execution_count": 2,
   "metadata": {},
   "outputs": [
    {
     "name": "stdout",
     "output_type": "stream",
     "text": [
      "139922960815216\n",
      "139922960815200\n"
     ]
    }
   ],
   "source": [
    "global var\n",
    "print(id(var))\n",
    "var = object()\n",
    "print(id(var))"
   ]
  },
  {
   "cell_type": "code",
   "execution_count": 3,
   "metadata": {},
   "outputs": [
    {
     "name": "stdout",
     "output_type": "stream",
     "text": [
      "False\n"
     ]
    }
   ],
   "source": [
    "global var1\n",
    "print('var1' in globals())"
   ]
  },
  {
   "cell_type": "markdown",
   "metadata": {},
   "source": [
    "### Iterable, Iterator and Generator"
   ]
  },
  {
   "cell_type": "code",
   "execution_count": 46,
   "metadata": {
    "scrolled": true
   },
   "outputs": [
    {
     "name": "stdout",
     "output_type": "stream",
     "text": [
      "1\n",
      "3\n"
     ]
    }
   ],
   "source": [
    "l = [1,2,3]\n",
    "itt = (_ for _ in l)\n",
    "print(next(itt))\n",
    "l.remove(1)\n",
    "print(next(itt))"
   ]
  },
  {
   "cell_type": "code",
   "execution_count": 60,
   "metadata": {},
   "outputs": [
    {
     "data": {
      "text/plain": [
       "[-1, 1, 2, 3]"
      ]
     },
     "execution_count": 60,
     "metadata": {},
     "output_type": "execute_result"
    }
   ],
   "source": [
    "l1 = [1,2,3]\n",
    "l1[:0] = [-1]"
   ]
  },
  {
   "cell_type": "code",
   "execution_count": 61,
   "metadata": {},
   "outputs": [
    {
     "name": "stdout",
     "output_type": "stream",
     "text": [
      "1\n",
      "2\n"
     ]
    }
   ],
   "source": [
    "l = [1,2,3]\n",
    "itt = (_ for _ in l)\n",
    "print(next(itt))\n",
    "l[:0] = [None]\n",
    "l.remove(1)\n",
    "print(next(itt))"
   ]
  },
  {
   "cell_type": "code",
   "execution_count": 14,
   "metadata": {},
   "outputs": [
    {
     "ename": "SyntaxError",
     "evalue": "invalid syntax (<ipython-input-14-260a6806817f>, line 7)",
     "output_type": "error",
     "traceback": [
      "\u001b[0;36m  File \u001b[0;32m\"<ipython-input-14-260a6806817f>\"\u001b[0;36m, line \u001b[0;32m7\u001b[0m\n\u001b[0;31m    else:\u001b[0m\n\u001b[0m       ^\u001b[0m\n\u001b[0;31mSyntaxError\u001b[0m\u001b[0;31m:\u001b[0m invalid syntax\n"
     ]
    }
   ],
   "source": [
    "if 0:\n",
    "    pass\n",
    "else:\n",
    "    if 0:\n",
    "        pass\n",
    "    \"\"\" sss \"\"\" \n",
    "    else:\n",
    "        print(1)"
   ]
  }
 ],
 "metadata": {
  "kernelspec": {
   "display_name": "Python 3",
   "language": "python",
   "name": "python3"
  },
  "language_info": {
   "codemirror_mode": {
    "name": "ipython",
    "version": 3
   },
   "file_extension": ".py",
   "mimetype": "text/x-python",
   "name": "python",
   "nbconvert_exporter": "python",
   "pygments_lexer": "ipython3",
   "version": "3.5.2"
  }
 },
 "nbformat": 4,
 "nbformat_minor": 2
}
