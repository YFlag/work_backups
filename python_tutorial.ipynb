{
 "cells": [
  {
   "cell_type": "markdown",
   "metadata": {},
   "source": [
    "### Class"
   ]
  },
  {
   "cell_type": "code",
   "execution_count": 15,
   "metadata": {
    "scrolled": true
   },
   "outputs": [],
   "source": [
    "class A():\n",
    "    def __init__(self):\n",
    "        self.v = 'v'\n",
    "    \n",
    "    def f(self):\n",
    "        print('v' in locals())\n",
    "        print('self.v' in locals())\n",
    "        print('v' in globals())\n",
    "        print('self.v' in globals())\n",
    "        print(hasattr(self, 'v'))\n",
    "        \n",
    "    def f1(a, b=2, self=None):\n",
    "        print('f1', a, b, self)\n",
    "        if self: print(self.v)\n",
    "        print(hasattr(A, 'v'))\n",
    "        \n",
    "    def f2(self=None, p=None):\n",
    "        print('f2', self, isinstance(self, A), p)\n",
    "        \n",
    "    def __f3(self): \n",
    "        print('f3')\n",
    "        \n",
    "    def f4(self):\n",
    "        print(hasattr(self, '__f3'))\n",
    "        print(self.__f3)\n",
    "        print(hasattr(self, '_A__f3'))\n",
    "        self.__f3()\n",
    "        \n",
    "    def f5():\n",
    "        print('f5')\n",
    "        \n",
    "    def f6(self):\n",
    "        print(b)\n",
    "        print(self.f7)\n",
    "        \n",
    "    def f7(self):\n",
    "        pass\n",
    "        \n",
    "a = A()\n",
    "# a.f()\n",
    "# A.f1(1)\n",
    "# a.f1(1)\n",
    "# a.f4()"
   ]
  },
  {
   "cell_type": "code",
   "execution_count": 69,
   "metadata": {},
   "outputs": [
    {
     "name": "stdout",
     "output_type": "stream",
     "text": [
      "f2 None False None\n",
      "f2 <__main__.A object at 0x7f6056f9e358> True None\n",
      "f2 1 False None\n",
      "f2 <__main__.A object at 0x7f6056f9e358> True 2\n"
     ]
    }
   ],
   "source": [
    "A.f2()\n",
    "a.f2()\n",
    "A.f2(1)\n",
    "a.f2(2)"
   ]
  },
  {
   "cell_type": "code",
   "execution_count": 71,
   "metadata": {
    "scrolled": true
   },
   "outputs": [
    {
     "ename": "TypeError",
     "evalue": "f5() takes 0 positional arguments but 1 was given",
     "output_type": "error",
     "traceback": [
      "\u001b[0;31m---------------------------------------------------------------------------\u001b[0m",
      "\u001b[0;31mTypeError\u001b[0m                                 Traceback (most recent call last)",
      "\u001b[0;32m<ipython-input-71-e6da9ba6e450>\u001b[0m in \u001b[0;36m<module>\u001b[0;34m()\u001b[0m\n\u001b[0;32m----> 1\u001b[0;31m \u001b[0ma\u001b[0m\u001b[0;34m.\u001b[0m\u001b[0mf5\u001b[0m\u001b[0;34m(\u001b[0m\u001b[0;34m)\u001b[0m\u001b[0;34m\u001b[0m\u001b[0m\n\u001b[0m",
      "\u001b[0;31mTypeError\u001b[0m: f5() takes 0 positional arguments but 1 was given"
     ]
    }
   ],
   "source": [
    "a.f5()"
   ]
  },
  {
   "cell_type": "code",
   "execution_count": 9,
   "metadata": {},
   "outputs": [
    {
     "name": "stdout",
     "output_type": "stream",
     "text": [
      "-1\n"
     ]
    }
   ],
   "source": [
    "b = -1\n",
    "a.f6()"
   ]
  },
  {
   "cell_type": "code",
   "execution_count": 16,
   "metadata": {},
   "outputs": [
    {
     "name": "stdout",
     "output_type": "stream",
     "text": [
      "-1\n",
      "<bound method A.f7 of <__main__.A object at 0x7f42500bff28>>\n"
     ]
    }
   ],
   "source": [
    "a.f6()"
   ]
  },
  {
   "cell_type": "code",
   "execution_count": 19,
   "metadata": {},
   "outputs": [
    {
     "name": "stdout",
     "output_type": "stream",
     "text": [
      "1\n"
     ]
    },
    {
     "ename": "AttributeError",
     "evalue": "'A' object has no attribute 'v1'",
     "output_type": "error",
     "traceback": [
      "\u001b[0;31m---------------------------------------------------------------------------\u001b[0m",
      "\u001b[0;31mAttributeError\u001b[0m                            Traceback (most recent call last)",
      "\u001b[0;32m<ipython-input-19-959f35d98bd5>\u001b[0m in \u001b[0;36m<module>\u001b[0;34m()\u001b[0m\n\u001b[1;32m      3\u001b[0m \u001b[0ma1\u001b[0m\u001b[0;34m.\u001b[0m\u001b[0mv1\u001b[0m \u001b[0;34m=\u001b[0m \u001b[0;36m1\u001b[0m\u001b[0;34m\u001b[0m\u001b[0m\n\u001b[1;32m      4\u001b[0m \u001b[0mprint\u001b[0m\u001b[0;34m(\u001b[0m\u001b[0ma1\u001b[0m\u001b[0;34m.\u001b[0m\u001b[0mv1\u001b[0m\u001b[0;34m)\u001b[0m\u001b[0;34m\u001b[0m\u001b[0m\n\u001b[0;32m----> 5\u001b[0;31m \u001b[0mprint\u001b[0m\u001b[0;34m(\u001b[0m\u001b[0ma2\u001b[0m\u001b[0;34m.\u001b[0m\u001b[0mv1\u001b[0m\u001b[0;34m)\u001b[0m\u001b[0;34m\u001b[0m\u001b[0m\n\u001b[0m",
      "\u001b[0;31mAttributeError\u001b[0m: 'A' object has no attribute 'v1'"
     ]
    }
   ],
   "source": [
    "a1 = A()\n",
    "a2 = A()\n",
    "a1.v1 = 1\n",
    "print(a1.v1)\n",
    "print(a2.v1)"
   ]
  },
  {
   "cell_type": "code",
   "execution_count": 37,
   "metadata": {},
   "outputs": [
    {
     "name": "stdout",
     "output_type": "stream",
     "text": [
      "<class '__main__.B'>\n",
      "<function B.f at 0x7f42437b41e0>\n",
      "<function B.f1 at 0x7f42437b4158>\n"
     ]
    }
   ],
   "source": [
    "class B():\n",
    "#     print(f)\n",
    "    def f(self):\n",
    "        print('f')\n",
    "    def f1(): pass\n",
    "        \n",
    "\"\"\" `f` is a member of class `B`. \"\"\"\n",
    "print(B)\n",
    "print(B.f)\n",
    "print(B.f1)"
   ]
  },
  {
   "cell_type": "markdown",
   "metadata": {},
   "source": [
    "### Global Object"
   ]
  },
  {
   "cell_type": "code",
   "execution_count": 1,
   "metadata": {},
   "outputs": [
    {
     "name": "stdout",
     "output_type": "stream",
     "text": [
      "139922960815216\n"
     ]
    }
   ],
   "source": [
    "global var\n",
    "# print(id(var))\n",
    "var = object()\n",
    "print(id(var))"
   ]
  },
  {
   "cell_type": "code",
   "execution_count": 2,
   "metadata": {},
   "outputs": [
    {
     "name": "stdout",
     "output_type": "stream",
     "text": [
      "139922960815216\n",
      "139922960815200\n"
     ]
    }
   ],
   "source": [
    "global var\n",
    "print(id(var))\n",
    "var = object()\n",
    "print(id(var))"
   ]
  },
  {
   "cell_type": "code",
   "execution_count": 27,
   "metadata": {},
   "outputs": [
    {
     "name": "stdout",
     "output_type": "stream",
     "text": [
      "False\n"
     ]
    }
   ],
   "source": [
    "global var1\n",
    "print('var1' in globals())"
   ]
  },
  {
   "cell_type": "code",
   "execution_count": 30,
   "metadata": {},
   "outputs": [
    {
     "ename": "UnboundLocalError",
     "evalue": "local variable 'func2' referenced before assignment",
     "output_type": "error",
     "traceback": [
      "\u001b[0;31m---------------------------------------------------------------------------\u001b[0m",
      "\u001b[0;31mUnboundLocalError\u001b[0m                         Traceback (most recent call last)",
      "\u001b[0;32m<ipython-input-30-fdca05925cb4>\u001b[0m in \u001b[0;36m<module>\u001b[0;34m()\u001b[0m\n\u001b[1;32m      4\u001b[0m         \u001b[0;32mpass\u001b[0m\u001b[0;34m\u001b[0m\u001b[0m\n\u001b[1;32m      5\u001b[0m \u001b[0;34m\u001b[0m\u001b[0m\n\u001b[0;32m----> 6\u001b[0;31m \u001b[0mfunc1\u001b[0m\u001b[0;34m(\u001b[0m\u001b[0;34m)\u001b[0m\u001b[0;34m\u001b[0m\u001b[0m\n\u001b[0m",
      "\u001b[0;32m<ipython-input-30-fdca05925cb4>\u001b[0m in \u001b[0;36mfunc1\u001b[0;34m()\u001b[0m\n\u001b[1;32m      1\u001b[0m \u001b[0;32mdef\u001b[0m \u001b[0mfunc1\u001b[0m\u001b[0;34m(\u001b[0m\u001b[0;34m)\u001b[0m\u001b[0;34m:\u001b[0m\u001b[0;34m\u001b[0m\u001b[0m\n\u001b[0;32m----> 2\u001b[0;31m     \u001b[0mfunc2\u001b[0m\u001b[0;34m(\u001b[0m\u001b[0;34m)\u001b[0m\u001b[0;34m\u001b[0m\u001b[0m\n\u001b[0m\u001b[1;32m      3\u001b[0m     \u001b[0;32mdef\u001b[0m \u001b[0mfunc2\u001b[0m\u001b[0;34m(\u001b[0m\u001b[0;34m)\u001b[0m\u001b[0;34m:\u001b[0m\u001b[0;34m\u001b[0m\u001b[0m\n\u001b[1;32m      4\u001b[0m         \u001b[0;32mpass\u001b[0m\u001b[0;34m\u001b[0m\u001b[0m\n\u001b[1;32m      5\u001b[0m \u001b[0;34m\u001b[0m\u001b[0m\n",
      "\u001b[0;31mUnboundLocalError\u001b[0m: local variable 'func2' referenced before assignment"
     ]
    }
   ],
   "source": [
    "def func1():\n",
    "    func2()\n",
    "    def func2():\n",
    "        pass\n",
    "    \n",
    "\"\"\" `func2` is a loval variable instead of a member of `func1` \"\"\"    \n",
    "func1()"
   ]
  },
  {
   "cell_type": "markdown",
   "metadata": {},
   "source": [
    "### Iterable, Iterator and Generator"
   ]
  },
  {
   "cell_type": "code",
   "execution_count": 46,
   "metadata": {
    "scrolled": true
   },
   "outputs": [
    {
     "name": "stdout",
     "output_type": "stream",
     "text": [
      "1\n",
      "3\n"
     ]
    }
   ],
   "source": [
    "l = [1,2,3]\n",
    "itt = (_ for _ in l)\n",
    "print(next(itt))\n",
    "l.remove(1)\n",
    "print(next(itt))"
   ]
  },
  {
   "cell_type": "code",
   "execution_count": 60,
   "metadata": {},
   "outputs": [
    {
     "data": {
      "text/plain": [
       "[-1, 1, 2, 3]"
      ]
     },
     "execution_count": 60,
     "metadata": {},
     "output_type": "execute_result"
    }
   ],
   "source": [
    "l1 = [1,2,3]\n",
    "l1[:0] = [-1]"
   ]
  },
  {
   "cell_type": "code",
   "execution_count": 61,
   "metadata": {},
   "outputs": [
    {
     "name": "stdout",
     "output_type": "stream",
     "text": [
      "1\n",
      "2\n"
     ]
    }
   ],
   "source": [
    "l = [1,2,3]\n",
    "itt = (_ for _ in l)\n",
    "print(next(itt))\n",
    "l[:0] = [None]\n",
    "l.remove(1)\n",
    "print(next(itt))"
   ]
  },
  {
   "cell_type": "code",
   "execution_count": 14,
   "metadata": {},
   "outputs": [
    {
     "ename": "SyntaxError",
     "evalue": "invalid syntax (<ipython-input-14-260a6806817f>, line 7)",
     "output_type": "error",
     "traceback": [
      "\u001b[0;36m  File \u001b[0;32m\"<ipython-input-14-260a6806817f>\"\u001b[0;36m, line \u001b[0;32m7\u001b[0m\n\u001b[0;31m    else:\u001b[0m\n\u001b[0m       ^\u001b[0m\n\u001b[0;31mSyntaxError\u001b[0m\u001b[0;31m:\u001b[0m invalid syntax\n"
     ]
    }
   ],
   "source": [
    "if 0:\n",
    "    pass\n",
    "else:\n",
    "    if 0:\n",
    "        pass\n",
    "    \"\"\" sss \"\"\" \n",
    "    else:\n",
    "        print(1)"
   ]
  },
  {
   "cell_type": "code",
   "execution_count": 117,
   "metadata": {},
   "outputs": [
    {
     "name": "stdout",
     "output_type": "stream",
     "text": [
      "    sdsdsds     AAAsdsds\n"
     ]
    }
   ],
   "source": [
    "def func():\n",
    "    '\\\n",
    "    sdsdsds \\\n",
    "    AAAsdsds'\n",
    "    pass\n",
    "\n",
    "print(func.__doc__)"
   ]
  },
  {
   "cell_type": "code",
   "execution_count": 126,
   "metadata": {},
   "outputs": [
    {
     "name": "stdout",
     "output_type": "stream",
     "text": [
      "sdsdsdsAAAsdsds\n"
     ]
    }
   ],
   "source": [
    "def func():\n",
    "    '' \\\n",
    "    'sdsdsds' \\\n",
    "    'AAAsdsds'\n",
    "    pass\n",
    "\n",
    "print(func.__doc__)"
   ]
  },
  {
   "cell_type": "code",
   "execution_count": 118,
   "metadata": {},
   "outputs": [
    {
     "name": "stdout",
     "output_type": "stream",
     "text": [
      "\n",
      "    sdsdsds \n",
      "    AAAsdsds\n"
     ]
    }
   ],
   "source": [
    "### Use This.\n",
    "def func():\n",
    "    \"\"\"\n",
    "    sdsdsds \n",
    "    AAAsdsds\"\"\"\n",
    "    pass\n",
    "\n",
    "print(func.__doc__)"
   ]
  },
  {
   "cell_type": "code",
   "execution_count": 114,
   "metadata": {},
   "outputs": [
    {
     "name": "stdout",
     "output_type": "stream",
     "text": [
      " `conn_density`: used to denote how many connectionPatch artists to \n",
      "create. \n"
     ]
    }
   ],
   "source": [
    "### Use This.\n",
    "print(\"\"\" `conn_density`: used to denote how many connectionPatch artists to \n",
    "create. \"\"\")"
   ]
  },
  {
   "cell_type": "code",
   "execution_count": 107,
   "metadata": {},
   "outputs": [
    {
     "name": "stdout",
     "output_type": "stream",
     "text": [
      " `conn_density`: used to denote how many connectionPatch artists to create. \n"
     ]
    }
   ],
   "source": [
    "print(\"\"\" `conn_density`: used to denote how many connectionPatch artists to \\\n",
    "create. \"\"\")"
   ]
  },
  {
   "cell_type": "code",
   "execution_count": 111,
   "metadata": {},
   "outputs": [
    {
     "name": "stdout",
     "output_type": "stream",
     "text": [
      "`conn_density`: used to denote how many connectionPatch artists to create. \n"
     ]
    }
   ],
   "source": [
    "print( '`conn_density`: used to denote how many connectionPatch artists to \\\n",
    "create. ')"
   ]
  },
  {
   "cell_type": "code",
   "execution_count": 109,
   "metadata": {},
   "outputs": [
    {
     "ename": "SyntaxError",
     "evalue": "EOL while scanning string literal (<ipython-input-109-78b8f3ad6a53>, line 1)",
     "output_type": "error",
     "traceback": [
      "\u001b[0;36m  File \u001b[0;32m\"<ipython-input-109-78b8f3ad6a53>\"\u001b[0;36m, line \u001b[0;32m1\u001b[0m\n\u001b[0;31m    print( '`conn_density`: used to denote how many connectionPatch artists to\u001b[0m\n\u001b[0m                                                                               ^\u001b[0m\n\u001b[0;31mSyntaxError\u001b[0m\u001b[0;31m:\u001b[0m EOL while scanning string literal\n"
     ]
    }
   ],
   "source": [
    "print( '`conn_density`: used to denote how many connectionPatch artists to \n",
    "create. ')"
   ]
  },
  {
   "cell_type": "code",
   "execution_count": 101,
   "metadata": {},
   "outputs": [
    {
     "name": "stdout",
     "output_type": "stream",
     "text": [
      "feature dimension of data is greater than 3, only the algebra\n"
     ]
    }
   ],
   "source": [
    "print('feature dimension of data is greater than 3, only the ' \\\n",
    "      'algebra')"
   ]
  },
  {
   "cell_type": "code",
   "execution_count": 112,
   "metadata": {},
   "outputs": [
    {
     "ename": "SyntaxError",
     "evalue": "EOL while scanning string literal (<ipython-input-112-3ff45482e464>, line 1)",
     "output_type": "error",
     "traceback": [
      "\u001b[0;36m  File \u001b[0;32m\"<ipython-input-112-3ff45482e464>\"\u001b[0;36m, line \u001b[0;32m1\u001b[0m\n\u001b[0;31m    print( \"`conn_density`: used to denote how many connectionPatch artists to\u001b[0m\n\u001b[0m                                                                               ^\u001b[0m\n\u001b[0;31mSyntaxError\u001b[0m\u001b[0;31m:\u001b[0m EOL while scanning string literal\n"
     ]
    }
   ],
   "source": [
    "print( \"`conn_density`: used to denote how many connectionPatch artists to \n",
    "create. \")"
   ]
  },
  {
   "cell_type": "code",
   "execution_count": 69,
   "metadata": {},
   "outputs": [
    {
     "name": "stdout",
     "output_type": "stream",
     "text": [
      "1 2\n"
     ]
    },
    {
     "data": {
      "text/plain": [
       "<function __main__.<lambda>.<locals>.<lambda>>"
      ]
     },
     "execution_count": 69,
     "metadata": {},
     "output_type": "execute_result"
    }
   ],
   "source": [
    "# def my_decorator2(f):\n",
    "#     return lambda *args, **kw: f(*args, **kw)\n",
    "my_decorator2 = lambda f: (lambda *args, **kw: f(*args, **kw))\n",
    "\n",
    "def func(a, b=-1):\n",
    "    print(a, b)\n",
    "    \n",
    "func = my_decorator2(func)\n",
    "func(1,2)\n",
    "func"
   ]
  },
  {
   "cell_type": "markdown",
   "metadata": {},
   "source": [
    "### Copy"
   ]
  },
  {
   "cell_type": "code",
   "execution_count": 79,
   "metadata": {},
   "outputs": [],
   "source": [
    "import copy\n",
    "def copy_test():\n",
    "    print('l1:', l1)\n",
    "    l2[0] = 10\n",
    "    l2[1][0] = 11\n",
    "    l2[2].append(12)\n",
    "    l2.append(13)\n",
    "    print('l2:', l2)\n",
    "    print('l1:', l1)"
   ]
  },
  {
   "cell_type": "code",
   "execution_count": 80,
   "metadata": {},
   "outputs": [
    {
     "name": "stdout",
     "output_type": "stream",
     "text": [
      "l1: [1, [2, 3], [4, 5]]\n",
      "l2: [10, [11, 3], [4, 5, 12], 13]\n",
      "l1: [1, [2, 3], [4, 5]]\n"
     ]
    }
   ],
   "source": [
    "e1, e2 = [2, 3], [4, 5]\n",
    "l1 = [1, e1, e2]\n",
    "l2 = copy.deepcopy(l1)\n",
    "copy_test()"
   ]
  },
  {
   "cell_type": "code",
   "execution_count": 81,
   "metadata": {},
   "outputs": [
    {
     "name": "stdout",
     "output_type": "stream",
     "text": [
      "l1: [1, [2, 3], [4, 5]]\n",
      "l2: [10, [11, 3], [4, 5, 12], 13]\n",
      "l1: [1, [11, 3], [4, 5, 12]]\n"
     ]
    }
   ],
   "source": [
    "e1, e2 = [2, 3], [4, 5]\n",
    "l1 = [1, e1, e2]\n",
    "l2 = copy.copy(l1)\n",
    "copy_test()"
   ]
  },
  {
   "cell_type": "code",
   "execution_count": 94,
   "metadata": {},
   "outputs": [
    {
     "name": "stdout",
     "output_type": "stream",
     "text": [
      "[1, [10, 3, 11], [4], 5]\n",
      "[1, [10, 3, 11], [4], 5]\n"
     ]
    }
   ],
   "source": [
    "e1, e2, e3 = [2, 3], [4], 5\n",
    "l1 = [1, e1, e2, e3]\n",
    "l2 = l1\n",
    "e1[0] = 10\n",
    "e1.append(11)\n",
    "e2 = 12\n",
    "e3 = 13\n",
    "print(l1)\n",
    "print(l2)"
   ]
  },
  {
   "cell_type": "code",
   "execution_count": 92,
   "metadata": {},
   "outputs": [
    {
     "name": "stdout",
     "output_type": "stream",
     "text": [
      "[1, [10, 3, 11], [4], 5]\n",
      "[1, [10, 3, 11], [4], 5]\n"
     ]
    }
   ],
   "source": [
    "e1, e2, e3 = [2, 3], [4], 5\n",
    "l1 = [1, e1, e2, e3]\n",
    "l2 = copy.copy(l1)\n",
    "e1[0] = 10\n",
    "e1.append(11)\n",
    "e2 = 12\n",
    "e3 = 13\n",
    "print(l1)\n",
    "print(l2)"
   ]
  },
  {
   "cell_type": "code",
   "execution_count": 93,
   "metadata": {},
   "outputs": [
    {
     "name": "stdout",
     "output_type": "stream",
     "text": [
      "[1, [10, 3, 11], [4], 5]\n",
      "[1, [2, 3], [4], 5]\n"
     ]
    }
   ],
   "source": [
    "e1, e2, e3 = [2, 3], [4], 5\n",
    "l1 = [1, e1, e2, e3]\n",
    "l2 = copy.deepcopy(l1)\n",
    "e1[0] = 10\n",
    "e1.append(11)\n",
    "e2 = 12\n",
    "e3 = 13\n",
    "print(l1)\n",
    "print(l2)"
   ]
  },
  {
   "cell_type": "markdown",
   "metadata": {},
   "source": [
    "### Miscellaneous"
   ]
  },
  {
   "cell_type": "code",
   "execution_count": 103,
   "metadata": {},
   "outputs": [
    {
     "ename": "AttributeError",
     "evalue": "'str' object has no attribute '__call__'",
     "output_type": "error",
     "traceback": [
      "\u001b[0;31m---------------------------------------------------------------------------\u001b[0m",
      "\u001b[0;31mAttributeError\u001b[0m                            Traceback (most recent call last)",
      "\u001b[0;32m<ipython-input-103-dbd738808258>\u001b[0m in \u001b[0;36m<module>\u001b[0;34m()\u001b[0m\n\u001b[1;32m      1\u001b[0m \u001b[0ma\u001b[0m \u001b[0;34m=\u001b[0m \u001b[0;34m'1'\u001b[0m\u001b[0;34m*\u001b[0m\u001b[0;36m10\u001b[0m\u001b[0;34m\u001b[0m\u001b[0m\n\u001b[0;32m----> 2\u001b[0;31m \u001b[0ma\u001b[0m\u001b[0;34m.\u001b[0m\u001b[0m__call__\u001b[0m \u001b[0;34m=\u001b[0m \u001b[0;32mlambda\u001b[0m\u001b[0;34m:\u001b[0m \u001b[0;36m2\u001b[0m\u001b[0;34m\u001b[0m\u001b[0m\n\u001b[0m",
      "\u001b[0;31mAttributeError\u001b[0m: 'str' object has no attribute '__call__'"
     ]
    }
   ],
   "source": [
    "a = '1'*10\n",
    "a.__call__ = lambda: 2"
   ]
  }
 ],
 "metadata": {
  "kernelspec": {
   "display_name": "Python 3",
   "language": "python",
   "name": "python3"
  },
  "language_info": {
   "codemirror_mode": {
    "name": "ipython",
    "version": 3
   },
   "file_extension": ".py",
   "mimetype": "text/x-python",
   "name": "python",
   "nbconvert_exporter": "python",
   "pygments_lexer": "ipython3",
   "version": "3.5.2"
  }
 },
 "nbformat": 4,
 "nbformat_minor": 2
}
