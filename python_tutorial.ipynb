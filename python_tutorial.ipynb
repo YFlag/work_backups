{
 "cells": [
  {
   "cell_type": "markdown",
   "metadata": {},
   "source": [
    "### Class"
   ]
  },
  {
   "cell_type": "code",
   "execution_count": 1,
   "metadata": {
    "scrolled": true
   },
   "outputs": [],
   "source": [
    "class A():\n",
    "    def __init__(self):\n",
    "        self.v = 'v'\n",
    "        A.V2 = 'v2'\n",
    "    \n",
    "    def f(self):\n",
    "        print('v' in locals())\n",
    "        print('self.v' in locals())\n",
    "        print('v' in globals())\n",
    "        print('self.v' in globals())\n",
    "        print(hasattr(self, 'v'))\n",
    "        \n",
    "    def f1(a, b=2, self=None):\n",
    "        print('f1', a, b, self)\n",
    "        if self: print(self.v)\n",
    "        print(hasattr(A, 'v'))\n",
    "        \n",
    "    def f2(self=None, p=None):\n",
    "        print('f2', self, isinstance(self, A), p)\n",
    "        \n",
    "    def __f3(self): print('f3')\n",
    "        \n",
    "    def f4(self):\n",
    "        print(hasattr(self, '__f3'))\n",
    "        print(self.__f3)\n",
    "        print(hasattr(self, '_A__f3'))\n",
    "        self.__f3()\n",
    "        \n",
    "    def f5(): print('f5')\n",
    "        \n",
    "    def f6(self):\n",
    "        print(b)\n",
    "        print(self.f7)\n",
    "        \n",
    "    def f7(self): pass\n",
    "    \n",
    "    @staticmethod\n",
    "    def f8(): print('f8')\n",
    "        \n",
    "    @classmethod\n",
    "    def f9(cls, v9): print(cls, v9, cls.V2) \n",
    "                \n",
    "# a = A()\n",
    "# a.f()\n",
    "# A.f1(1)\n",
    "# a.f1(1)\n",
    "# a.f4()"
   ]
  },
  {
   "cell_type": "code",
   "execution_count": 69,
   "metadata": {},
   "outputs": [
    {
     "name": "stdout",
     "output_type": "stream",
     "text": [
      "f2 None False None\n",
      "f2 <__main__.A object at 0x7f6056f9e358> True None\n",
      "f2 1 False None\n",
      "f2 <__main__.A object at 0x7f6056f9e358> True 2\n"
     ]
    }
   ],
   "source": [
    "A.f2()\n",
    "a.f2()\n",
    "A.f2(1)\n",
    "a.f2(2)"
   ]
  },
  {
   "cell_type": "code",
   "execution_count": 71,
   "metadata": {
    "scrolled": true
   },
   "outputs": [
    {
     "ename": "TypeError",
     "evalue": "f5() takes 0 positional arguments but 1 was given",
     "output_type": "error",
     "traceback": [
      "\u001b[0;31m---------------------------------------------------------------------------\u001b[0m",
      "\u001b[0;31mTypeError\u001b[0m                                 Traceback (most recent call last)",
      "\u001b[0;32m<ipython-input-71-e6da9ba6e450>\u001b[0m in \u001b[0;36m<module>\u001b[0;34m()\u001b[0m\n\u001b[0;32m----> 1\u001b[0;31m \u001b[0ma\u001b[0m\u001b[0;34m.\u001b[0m\u001b[0mf5\u001b[0m\u001b[0;34m(\u001b[0m\u001b[0;34m)\u001b[0m\u001b[0;34m\u001b[0m\u001b[0m\n\u001b[0m",
      "\u001b[0;31mTypeError\u001b[0m: f5() takes 0 positional arguments but 1 was given"
     ]
    }
   ],
   "source": [
    "a.f5()"
   ]
  },
  {
   "cell_type": "code",
   "execution_count": 9,
   "metadata": {},
   "outputs": [
    {
     "name": "stdout",
     "output_type": "stream",
     "text": [
      "-1\n"
     ]
    }
   ],
   "source": [
    "b = -1\n",
    "a.f6()"
   ]
  },
  {
   "cell_type": "code",
   "execution_count": 16,
   "metadata": {},
   "outputs": [
    {
     "name": "stdout",
     "output_type": "stream",
     "text": [
      "-1\n",
      "<bound method A.f7 of <__main__.A object at 0x7f42500bff28>>\n"
     ]
    }
   ],
   "source": [
    "a.f6()"
   ]
  },
  {
   "cell_type": "code",
   "execution_count": 19,
   "metadata": {},
   "outputs": [
    {
     "name": "stdout",
     "output_type": "stream",
     "text": [
      "1\n"
     ]
    },
    {
     "ename": "AttributeError",
     "evalue": "'A' object has no attribute 'v1'",
     "output_type": "error",
     "traceback": [
      "\u001b[0;31m---------------------------------------------------------------------------\u001b[0m",
      "\u001b[0;31mAttributeError\u001b[0m                            Traceback (most recent call last)",
      "\u001b[0;32m<ipython-input-19-959f35d98bd5>\u001b[0m in \u001b[0;36m<module>\u001b[0;34m()\u001b[0m\n\u001b[1;32m      3\u001b[0m \u001b[0ma1\u001b[0m\u001b[0;34m.\u001b[0m\u001b[0mv1\u001b[0m \u001b[0;34m=\u001b[0m \u001b[0;36m1\u001b[0m\u001b[0;34m\u001b[0m\u001b[0m\n\u001b[1;32m      4\u001b[0m \u001b[0mprint\u001b[0m\u001b[0;34m(\u001b[0m\u001b[0ma1\u001b[0m\u001b[0;34m.\u001b[0m\u001b[0mv1\u001b[0m\u001b[0;34m)\u001b[0m\u001b[0;34m\u001b[0m\u001b[0m\n\u001b[0;32m----> 5\u001b[0;31m \u001b[0mprint\u001b[0m\u001b[0;34m(\u001b[0m\u001b[0ma2\u001b[0m\u001b[0;34m.\u001b[0m\u001b[0mv1\u001b[0m\u001b[0;34m)\u001b[0m\u001b[0;34m\u001b[0m\u001b[0m\n\u001b[0m",
      "\u001b[0;31mAttributeError\u001b[0m: 'A' object has no attribute 'v1'"
     ]
    }
   ],
   "source": [
    "a1 = A()\n",
    "a2 = A()\n",
    "a1.v1 = 1\n",
    "print(a1.v1)\n",
    "print(a2.v1)"
   ]
  },
  {
   "cell_type": "code",
   "execution_count": 60,
   "metadata": {},
   "outputs": [
    {
     "name": "stdout",
     "output_type": "stream",
     "text": [
      "f8\n",
      "f8\n",
      "f5\n"
     ]
    },
    {
     "ename": "TypeError",
     "evalue": "f5() takes 0 positional arguments but 1 was given",
     "output_type": "error",
     "traceback": [
      "\u001b[0;31m---------------------------------------------------------------------------\u001b[0m",
      "\u001b[0;31mTypeError\u001b[0m                                 Traceback (most recent call last)",
      "\u001b[0;32m<ipython-input-60-8ccab48116c3>\u001b[0m in \u001b[0;36m<module>\u001b[0;34m()\u001b[0m\n\u001b[1;32m      2\u001b[0m \u001b[0ma\u001b[0m\u001b[0;34m.\u001b[0m\u001b[0mf8\u001b[0m\u001b[0;34m(\u001b[0m\u001b[0;34m)\u001b[0m\u001b[0;34m\u001b[0m\u001b[0m\n\u001b[1;32m      3\u001b[0m \u001b[0mA\u001b[0m\u001b[0;34m.\u001b[0m\u001b[0mf5\u001b[0m\u001b[0;34m(\u001b[0m\u001b[0;34m)\u001b[0m\u001b[0;34m\u001b[0m\u001b[0m\n\u001b[0;32m----> 4\u001b[0;31m \u001b[0ma\u001b[0m\u001b[0;34m.\u001b[0m\u001b[0mf5\u001b[0m\u001b[0;34m(\u001b[0m\u001b[0;34m)\u001b[0m\u001b[0;34m\u001b[0m\u001b[0m\n\u001b[0m",
      "\u001b[0;31mTypeError\u001b[0m: f5() takes 0 positional arguments but 1 was given"
     ]
    }
   ],
   "source": [
    "A.f8()\n",
    "a.f8()\n",
    "A.f5()\n",
    "a.f5()"
   ]
  },
  {
   "cell_type": "code",
   "execution_count": 2,
   "metadata": {},
   "outputs": [
    {
     "ename": "AttributeError",
     "evalue": "type object 'A' has no attribute 'V2'",
     "output_type": "error",
     "traceback": [
      "\u001b[0;31m---------------------------------------------------------------------------\u001b[0m",
      "\u001b[0;31mAttributeError\u001b[0m                            Traceback (most recent call last)",
      "\u001b[0;32m<ipython-input-2-58b226ed1fb9>\u001b[0m in \u001b[0;36m<module>\u001b[0;34m()\u001b[0m\n\u001b[1;32m      1\u001b[0m \u001b[0;31m# ref: https://stackoverflow.com/questions/68645/are-static-class-variables-possible\u001b[0m\u001b[0;34m\u001b[0m\u001b[0;34m\u001b[0m\u001b[0m\n\u001b[0;32m----> 2\u001b[0;31m \u001b[0mA\u001b[0m\u001b[0;34m.\u001b[0m\u001b[0mf9\u001b[0m\u001b[0;34m(\u001b[0m\u001b[0;36m11\u001b[0m\u001b[0;34m)\u001b[0m\u001b[0;34m\u001b[0m\u001b[0m\n\u001b[0m",
      "\u001b[0;32m<ipython-input-1-7d12b4f708ab>\u001b[0m in \u001b[0;36mf9\u001b[0;34m(cls, v9)\u001b[0m\n\u001b[1;32m     39\u001b[0m \u001b[0;34m\u001b[0m\u001b[0m\n\u001b[1;32m     40\u001b[0m     \u001b[0;34m@\u001b[0m\u001b[0mclassmethod\u001b[0m\u001b[0;34m\u001b[0m\u001b[0m\n\u001b[0;32m---> 41\u001b[0;31m     \u001b[0;32mdef\u001b[0m \u001b[0mf9\u001b[0m\u001b[0;34m(\u001b[0m\u001b[0mcls\u001b[0m\u001b[0;34m,\u001b[0m \u001b[0mv9\u001b[0m\u001b[0;34m)\u001b[0m\u001b[0;34m:\u001b[0m \u001b[0mprint\u001b[0m\u001b[0;34m(\u001b[0m\u001b[0mcls\u001b[0m\u001b[0;34m,\u001b[0m \u001b[0mv9\u001b[0m\u001b[0;34m,\u001b[0m \u001b[0mcls\u001b[0m\u001b[0;34m.\u001b[0m\u001b[0mV2\u001b[0m\u001b[0;34m)\u001b[0m\u001b[0;34m\u001b[0m\u001b[0m\n\u001b[0m\u001b[1;32m     42\u001b[0m \u001b[0;34m\u001b[0m\u001b[0m\n\u001b[1;32m     43\u001b[0m \u001b[0;31m# a = A()\u001b[0m\u001b[0;34m\u001b[0m\u001b[0;34m\u001b[0m\u001b[0m\n",
      "\u001b[0;31mAttributeError\u001b[0m: type object 'A' has no attribute 'V2'"
     ]
    }
   ],
   "source": [
    "# ref: https://stackoverflow.com/questions/68645/are-static-class-variables-possible\n",
    "A.f9(11)"
   ]
  },
  {
   "cell_type": "code",
   "execution_count": 37,
   "metadata": {},
   "outputs": [
    {
     "name": "stdout",
     "output_type": "stream",
     "text": [
      "<class '__main__.B'>\n",
      "<function B.f at 0x7f42437b41e0>\n",
      "<function B.f1 at 0x7f42437b4158>\n"
     ]
    }
   ],
   "source": [
    "class B():\n",
    "#     print(f)\n",
    "    def f(self):\n",
    "        print('f')\n",
    "    def f1(): pass\n",
    "        \n",
    "\"\"\" `f` is a member of class `B`. \"\"\"\n",
    "print(B)\n",
    "print(B.f)\n",
    "print(B.f1)"
   ]
  },
  {
   "cell_type": "code",
   "execution_count": 74,
   "metadata": {},
   "outputs": [
    {
     "name": "stdout",
     "output_type": "stream",
     "text": [
      "<class '__main__.A'> 10\n"
     ]
    },
    {
     "data": {
      "text/plain": [
       "'v2'"
      ]
     },
     "execution_count": 74,
     "metadata": {},
     "output_type": "execute_result"
    }
   ],
   "source": [
    "A.f9(10)"
   ]
  },
  {
   "cell_type": "code",
   "execution_count": 5,
   "metadata": {},
   "outputs": [
    {
     "ename": "AttributeError",
     "evalue": "type object 'nn_visualizer' has no attribute 'hist_kwargs'",
     "output_type": "error",
     "traceback": [
      "\u001b[0;31m---------------------------------------------------------------------------\u001b[0m",
      "\u001b[0;31mAttributeError\u001b[0m                            Traceback (most recent call last)",
      "\u001b[0;32m<ipython-input-5-255d05d038a7>\u001b[0m in \u001b[0;36m<module>\u001b[0;34m()\u001b[0m\n\u001b[1;32m      2\u001b[0m \u001b[0;32mfrom\u001b[0m \u001b[0mnn_visualizer\u001b[0m \u001b[0;32mimport\u001b[0m \u001b[0mnn_visualizer\u001b[0m\u001b[0;34m\u001b[0m\u001b[0m\n\u001b[1;32m      3\u001b[0m \u001b[0;34m\u001b[0m\u001b[0m\n\u001b[0;32m----> 4\u001b[0;31m \u001b[0mnn_visualizer\u001b[0m\u001b[0;34m.\u001b[0m\u001b[0mhist_plot\u001b[0m\u001b[0;34m(\u001b[0m\u001b[0mnp\u001b[0m\u001b[0;34m.\u001b[0m\u001b[0marange\u001b[0m\u001b[0;34m(\u001b[0m\u001b[0;36m4\u001b[0m\u001b[0;34m)\u001b[0m\u001b[0;34m)\u001b[0m\u001b[0;34m\u001b[0m\u001b[0m\n\u001b[0m",
      "\u001b[0;32m/notebooks/Freund's_Shrine/Python_Codes/nn_research/nn_visualizer.py\u001b[0m in \u001b[0;36mhist_plot\u001b[0;34m(array_s, suptitle, bins_num, axes_h, **kwargs)\u001b[0m\n\u001b[1;32m    801\u001b[0m \u001b[0;34m\u001b[0m\u001b[0m\n\u001b[1;32m    802\u001b[0m         \u001b[0;34m\"\"\" supplement the default class-level hist kwargs. \"\"\"\u001b[0m\u001b[0;34m\u001b[0m\u001b[0m\n\u001b[0;32m--> 803\u001b[0;31m         \u001b[0mnn_visualizer\u001b[0m\u001b[0;34m.\u001b[0m\u001b[0mhist_kwargs\u001b[0m\u001b[0;34m.\u001b[0m\u001b[0mupdate\u001b[0m\u001b[0;34m(\u001b[0m\u001b[0mkwargs\u001b[0m\u001b[0;34m)\u001b[0m\u001b[0;34m\u001b[0m\u001b[0m\n\u001b[0m\u001b[1;32m    804\u001b[0m \u001b[0;34m\u001b[0m\u001b[0m\n\u001b[1;32m    805\u001b[0m         \u001b[0mmin_\u001b[0m\u001b[0;34m,\u001b[0m \u001b[0mmax_\u001b[0m \u001b[0;34m=\u001b[0m \u001b[0mnp\u001b[0m\u001b[0;34m.\u001b[0m\u001b[0mmin\u001b[0m\u001b[0;34m(\u001b[0m\u001b[0marray_s\u001b[0m\u001b[0;34m)\u001b[0m\u001b[0;34m,\u001b[0m \u001b[0mnp\u001b[0m\u001b[0;34m.\u001b[0m\u001b[0mmax\u001b[0m\u001b[0;34m(\u001b[0m\u001b[0marray_s\u001b[0m\u001b[0;34m)\u001b[0m\u001b[0;34m\u001b[0m\u001b[0m\n",
      "\u001b[0;31mAttributeError\u001b[0m: type object 'nn_visualizer' has no attribute 'hist_kwargs'"
     ]
    },
    {
     "data": {
      "image/png": "[encoded data removed]",
      "text/plain": [
       "<Figure size 350x350 with 1 Axes>"
      ]
     },
     "metadata": {},
     "output_type": "display_data"
    }
   ],
   "source": [
    "import numpy as np\n",
    "from nn_visualizer import nn_visualizer\n",
    "\n",
    "nn_visualizer.hist_plot(np.arange(4))"
   ]
  },
  {
   "cell_type": "markdown",
   "metadata": {},
   "source": [
    "### Global Object"
   ]
  },
  {
   "cell_type": "code",
   "execution_count": 1,
   "metadata": {},
   "outputs": [
    {
     "name": "stdout",
     "output_type": "stream",
     "text": [
      "139922960815216\n"
     ]
    }
   ],
   "source": [
    "global var\n",
    "# print(id(var))\n",
    "var = object()\n",
    "print(id(var))"
   ]
  },
  {
   "cell_type": "code",
   "execution_count": 2,
   "metadata": {},
   "outputs": [
    {
     "name": "stdout",
     "output_type": "stream",
     "text": [
      "139922960815216\n",
      "139922960815200\n"
     ]
    }
   ],
   "source": [
    "global var\n",
    "print(id(var))\n",
    "var = object()\n",
    "print(id(var))"
   ]
  },
  {
   "cell_type": "code",
   "execution_count": 27,
   "metadata": {},
   "outputs": [
    {
     "name": "stdout",
     "output_type": "stream",
     "text": [
      "False\n"
     ]
    }
   ],
   "source": [
    "global var1\n",
    "print('var1' in globals())"
   ]
  },
  {
   "cell_type": "code",
   "execution_count": 30,
   "metadata": {},
   "outputs": [
    {
     "ename": "UnboundLocalError",
     "evalue": "local variable 'func2' referenced before assignment",
     "output_type": "error",
     "traceback": [
      "\u001b[0;31m---------------------------------------------------------------------------\u001b[0m",
      "\u001b[0;31mUnboundLocalError\u001b[0m                         Traceback (most recent call last)",
      "\u001b[0;32m<ipython-input-30-fdca05925cb4>\u001b[0m in \u001b[0;36m<module>\u001b[0;34m()\u001b[0m\n\u001b[1;32m      4\u001b[0m         \u001b[0;32mpass\u001b[0m\u001b[0;34m\u001b[0m\u001b[0m\n\u001b[1;32m      5\u001b[0m \u001b[0;34m\u001b[0m\u001b[0m\n\u001b[0;32m----> 6\u001b[0;31m \u001b[0mfunc1\u001b[0m\u001b[0;34m(\u001b[0m\u001b[0;34m)\u001b[0m\u001b[0;34m\u001b[0m\u001b[0m\n\u001b[0m",
      "\u001b[0;32m<ipython-input-30-fdca05925cb4>\u001b[0m in \u001b[0;36mfunc1\u001b[0;34m()\u001b[0m\n\u001b[1;32m      1\u001b[0m \u001b[0;32mdef\u001b[0m \u001b[0mfunc1\u001b[0m\u001b[0;34m(\u001b[0m\u001b[0;34m)\u001b[0m\u001b[0;34m:\u001b[0m\u001b[0;34m\u001b[0m\u001b[0m\n\u001b[0;32m----> 2\u001b[0;31m     \u001b[0mfunc2\u001b[0m\u001b[0;34m(\u001b[0m\u001b[0;34m)\u001b[0m\u001b[0;34m\u001b[0m\u001b[0m\n\u001b[0m\u001b[1;32m      3\u001b[0m     \u001b[0;32mdef\u001b[0m \u001b[0mfunc2\u001b[0m\u001b[0;34m(\u001b[0m\u001b[0;34m)\u001b[0m\u001b[0;34m:\u001b[0m\u001b[0;34m\u001b[0m\u001b[0m\n\u001b[1;32m      4\u001b[0m         \u001b[0;32mpass\u001b[0m\u001b[0;34m\u001b[0m\u001b[0m\n\u001b[1;32m      5\u001b[0m \u001b[0;34m\u001b[0m\u001b[0m\n",
      "\u001b[0;31mUnboundLocalError\u001b[0m: local variable 'func2' referenced before assignment"
     ]
    }
   ],
   "source": [
    "def func1():\n",
    "    func2()\n",
    "    def func2():\n",
    "        pass\n",
    "    \n",
    "\"\"\" `func2` is a loval variable instead of a member of `func1` \"\"\"    \n",
    "func1()"
   ]
  },
  {
   "cell_type": "markdown",
   "metadata": {},
   "source": [
    "### Iterable, Iterator and Generator"
   ]
  },
  {
   "cell_type": "code",
   "execution_count": 46,
   "metadata": {
    "scrolled": true
   },
   "outputs": [
    {
     "name": "stdout",
     "output_type": "stream",
     "text": [
      "1\n",
      "3\n"
     ]
    }
   ],
   "source": [
    "l = [1,2,3]\n",
    "itt = (_ for _ in l)\n",
    "print(next(itt))\n",
    "l.remove(1)\n",
    "print(next(itt))"
   ]
  },
  {
   "cell_type": "code",
   "execution_count": 60,
   "metadata": {},
   "outputs": [
    {
     "data": {
      "text/plain": [
       "[-1, 1, 2, 3]"
      ]
     },
     "execution_count": 60,
     "metadata": {},
     "output_type": "execute_result"
    }
   ],
   "source": [
    "l1 = [1,2,3]\n",
    "l1[:0] = [-1]"
   ]
  },
  {
   "cell_type": "code",
   "execution_count": 61,
   "metadata": {},
   "outputs": [
    {
     "name": "stdout",
     "output_type": "stream",
     "text": [
      "1\n",
      "2\n"
     ]
    }
   ],
   "source": [
    "l = [1,2,3]\n",
    "itt = (_ for _ in l)\n",
    "print(next(itt))\n",
    "l[:0] = [None]\n",
    "l.remove(1)\n",
    "print(next(itt))"
   ]
  },
  {
   "cell_type": "markdown",
   "metadata": {},
   "source": [
    "dict changing in loop."
   ]
  },
  {
   "cell_type": "code",
   "execution_count": 22,
   "metadata": {},
   "outputs": [
    {
     "ename": "RuntimeError",
     "evalue": "dictionary changed size during iteration",
     "output_type": "error",
     "traceback": [
      "\u001b[0;31m---------------------------------------------------------------------------\u001b[0m",
      "\u001b[0;31mRuntimeError\u001b[0m                              Traceback (most recent call last)",
      "\u001b[0;32m<ipython-input-22-3daede03340b>\u001b[0m in \u001b[0;36m<module>\u001b[0;34m()\u001b[0m\n\u001b[1;32m      1\u001b[0m \u001b[0md\u001b[0m \u001b[0;34m=\u001b[0m \u001b[0;34m{\u001b[0m\u001b[0;36m1\u001b[0m\u001b[0;34m:\u001b[0m\u001b[0;36m2\u001b[0m\u001b[0;34m,\u001b[0m \u001b[0;36m3\u001b[0m\u001b[0;34m:\u001b[0m\u001b[0;36m4\u001b[0m\u001b[0;34m}\u001b[0m\u001b[0;34m\u001b[0m\u001b[0m\n\u001b[0;32m----> 2\u001b[0;31m \u001b[0;32mfor\u001b[0m \u001b[0m_\u001b[0m \u001b[0;32min\u001b[0m \u001b[0md\u001b[0m\u001b[0;34m:\u001b[0m\u001b[0;34m\u001b[0m\u001b[0m\n\u001b[0m\u001b[1;32m      3\u001b[0m     \u001b[0md\u001b[0m\u001b[0;34m.\u001b[0m\u001b[0mpop\u001b[0m\u001b[0;34m(\u001b[0m\u001b[0m_\u001b[0m\u001b[0;34m)\u001b[0m\u001b[0;34m\u001b[0m\u001b[0m\n",
      "\u001b[0;31mRuntimeError\u001b[0m: dictionary changed size during iteration"
     ]
    }
   ],
   "source": [
    "d = {1:2, 3:4}\n",
    "for _ in d:\n",
    "    d.pop(_)"
   ]
  },
  {
   "cell_type": "code",
   "execution_count": 23,
   "metadata": {},
   "outputs": [
    {
     "ename": "RuntimeError",
     "evalue": "dictionary changed size during iteration",
     "output_type": "error",
     "traceback": [
      "\u001b[0;31m---------------------------------------------------------------------------\u001b[0m",
      "\u001b[0;31mRuntimeError\u001b[0m                              Traceback (most recent call last)",
      "\u001b[0;32m<ipython-input-23-2b71e438ba97>\u001b[0m in \u001b[0;36m<module>\u001b[0;34m()\u001b[0m\n\u001b[1;32m      1\u001b[0m \u001b[0md\u001b[0m \u001b[0;34m=\u001b[0m \u001b[0;34m{\u001b[0m\u001b[0;36m1\u001b[0m\u001b[0;34m:\u001b[0m\u001b[0;36m2\u001b[0m\u001b[0;34m,\u001b[0m \u001b[0;36m3\u001b[0m\u001b[0;34m:\u001b[0m\u001b[0;36m4\u001b[0m\u001b[0;34m}\u001b[0m\u001b[0;34m\u001b[0m\u001b[0m\n\u001b[0;32m----> 2\u001b[0;31m \u001b[0;32mfor\u001b[0m \u001b[0m_\u001b[0m \u001b[0;32min\u001b[0m \u001b[0md\u001b[0m\u001b[0;34m.\u001b[0m\u001b[0mitems\u001b[0m\u001b[0;34m(\u001b[0m\u001b[0;34m)\u001b[0m\u001b[0;34m:\u001b[0m\u001b[0;34m\u001b[0m\u001b[0m\n\u001b[0m\u001b[1;32m      3\u001b[0m     \u001b[0md\u001b[0m\u001b[0;34m.\u001b[0m\u001b[0mpop\u001b[0m\u001b[0;34m(\u001b[0m\u001b[0m_\u001b[0m\u001b[0;34m[\u001b[0m\u001b[0;36m0\u001b[0m\u001b[0;34m]\u001b[0m\u001b[0;34m)\u001b[0m\u001b[0;34m\u001b[0m\u001b[0m\n",
      "\u001b[0;31mRuntimeError\u001b[0m: dictionary changed size during iteration"
     ]
    }
   ],
   "source": [
    "d = {1:2, 3:4}\n",
    "for _ in d.items():\n",
    "    d.pop(_[0])"
   ]
  },
  {
   "cell_type": "code",
   "execution_count": 30,
   "metadata": {},
   "outputs": [
    {
     "name": "stdout",
     "output_type": "stream",
     "text": [
      "{}\n"
     ]
    }
   ],
   "source": [
    "d = {1:2, 3:4}\n",
    "for _ in d.copy().items():\n",
    "    d.pop(_[0])\n",
    "print(d)"
   ]
  },
  {
   "cell_type": "markdown",
   "metadata": {},
   "source": [
    "### Syntax & Printing of String Literals"
   ]
  },
  {
   "cell_type": "code",
   "execution_count": 14,
   "metadata": {},
   "outputs": [
    {
     "ename": "SyntaxError",
     "evalue": "invalid syntax (<ipython-input-14-260a6806817f>, line 7)",
     "output_type": "error",
     "traceback": [
      "\u001b[0;36m  File \u001b[0;32m\"<ipython-input-14-260a6806817f>\"\u001b[0;36m, line \u001b[0;32m7\u001b[0m\n\u001b[0;31m    else:\u001b[0m\n\u001b[0m       ^\u001b[0m\n\u001b[0;31mSyntaxError\u001b[0m\u001b[0;31m:\u001b[0m invalid syntax\n"
     ]
    }
   ],
   "source": [
    "if 0:\n",
    "    pass\n",
    "else:\n",
    "    if 0:\n",
    "        pass\n",
    "    \"\"\" sss \"\"\" \n",
    "    else:\n",
    "        print(1)"
   ]
  },
  {
   "cell_type": "code",
   "execution_count": 117,
   "metadata": {},
   "outputs": [
    {
     "name": "stdout",
     "output_type": "stream",
     "text": [
      "    sdsdsds     AAAsdsds\n"
     ]
    }
   ],
   "source": [
    "def func():\n",
    "    '\\\n",
    "    sdsdsds \\\n",
    "    AAAsdsds'\n",
    "    pass\n",
    "\n",
    "print(func.__doc__)"
   ]
  },
  {
   "cell_type": "code",
   "execution_count": 126,
   "metadata": {},
   "outputs": [
    {
     "name": "stdout",
     "output_type": "stream",
     "text": [
      "sdsdsdsAAAsdsds\n"
     ]
    }
   ],
   "source": [
    "def func():\n",
    "    '' \\\n",
    "    'sdsdsds' \\\n",
    "    'AAAsdsds'\n",
    "    pass\n",
    "\n",
    "print(func.__doc__)"
   ]
  },
  {
   "cell_type": "code",
   "execution_count": 6,
   "metadata": {},
   "outputs": [
    {
     "name": "stdout",
     "output_type": "stream",
     "text": [
      "\n",
      "    sdsdsds     AAAsdsds\n"
     ]
    }
   ],
   "source": [
    "### Use This.\n",
    "def func():\n",
    "    \"\"\"\n",
    "    sdsdsds\n",
    "    AAAsdsds\"\"\"\n",
    "    pass\n",
    "\n",
    "print(func.__doc__)"
   ]
  },
  {
   "cell_type": "code",
   "execution_count": 61,
   "metadata": {},
   "outputs": [
    {
     "name": "stdout",
     "output_type": "stream",
     "text": [
      " `conn_density`: used to denote how many connectionPatch artists to \n",
      "        create. \n"
     ]
    }
   ],
   "source": [
    "### Use This.\n",
    "print(\"\"\" `conn_density`: used to denote how many connectionPatch artists to \n",
    "        create. \"\"\")"
   ]
  },
  {
   "cell_type": "code",
   "execution_count": 63,
   "metadata": {},
   "outputs": [
    {
     "name": "stdout",
     "output_type": "stream",
     "text": [
      " \n",
      "    `conn_density`: used to denote how many connectionPatch artists to \n",
      "create. \n"
     ]
    }
   ],
   "source": [
    "print(\"\"\" \n",
    "    `conn_density`: used to denote how many connectionPatch artists to \n",
    "create. \"\"\")"
   ]
  },
  {
   "cell_type": "code",
   "execution_count": 352,
   "metadata": {},
   "outputs": [
    {
     "name": "stdout",
     "output_type": "stream",
     "text": [
      " `conn_density`: used to denote how many connectionPatch artists to create. \n"
     ]
    }
   ],
   "source": [
    "print(\"\"\" `conn_density`: used to denote how many connectionPatch artists to create. \"\"\")"
   ]
  },
  {
   "cell_type": "code",
   "execution_count": 1,
   "metadata": {},
   "outputs": [
    {
     "name": "stdout",
     "output_type": "stream",
     "text": [
      " `conn_density`: used to denote how many connectionPatch artists to create. \n"
     ]
    }
   ],
   "source": [
    "print(\"\"\" `conn_density`: used to denote how many connectionPatch artists to \\\n",
    "create. \"\"\")"
   ]
  },
  {
   "cell_type": "markdown",
   "metadata": {},
   "source": [
    "double quote"
   ]
  },
  {
   "cell_type": "code",
   "execution_count": 112,
   "metadata": {},
   "outputs": [
    {
     "ename": "SyntaxError",
     "evalue": "EOL while scanning string literal (<ipython-input-112-3ff45482e464>, line 1)",
     "output_type": "error",
     "traceback": [
      "\u001b[0;36m  File \u001b[0;32m\"<ipython-input-112-3ff45482e464>\"\u001b[0;36m, line \u001b[0;32m1\u001b[0m\n\u001b[0;31m    print( \"`conn_density`: used to denote how many connectionPatch artists to\u001b[0m\n\u001b[0m                                                                               ^\u001b[0m\n\u001b[0;31mSyntaxError\u001b[0m\u001b[0;31m:\u001b[0m EOL while scanning string literal\n"
     ]
    }
   ],
   "source": [
    "print( \"`conn_density`: used to denote how many connectionPatch artists to \n",
    "create. \")"
   ]
  },
  {
   "cell_type": "code",
   "execution_count": 109,
   "metadata": {},
   "outputs": [
    {
     "ename": "SyntaxError",
     "evalue": "EOL while scanning string literal (<ipython-input-109-78b8f3ad6a53>, line 1)",
     "output_type": "error",
     "traceback": [
      "\u001b[0;36m  File \u001b[0;32m\"<ipython-input-109-78b8f3ad6a53>\"\u001b[0;36m, line \u001b[0;32m1\u001b[0m\n\u001b[0;31m    print( '`conn_density`: used to denote how many connectionPatch artists to\u001b[0m\n\u001b[0m                                                                               ^\u001b[0m\n\u001b[0;31mSyntaxError\u001b[0m\u001b[0;31m:\u001b[0m EOL while scanning string literal\n"
     ]
    }
   ],
   "source": [
    "print( '`conn_density`: used to denote how many connectionPatch artists to \n",
    "create. ')"
   ]
  },
  {
   "cell_type": "code",
   "execution_count": 65,
   "metadata": {},
   "outputs": [
    {
     "name": "stdout",
     "output_type": "stream",
     "text": [
      "`conn_density`: used to denote how many connectionPatch artists to sds create. \n"
     ]
    },
    {
     "ename": "TypeError",
     "evalue": "publish() got an unexpected keyword argument 'end'",
     "output_type": "error",
     "traceback": [
      "\u001b[0;31m---------------------------------------------------------------------------\u001b[0m",
      "\u001b[0;31mTypeError\u001b[0m                                 Traceback (most recent call last)",
      "\u001b[0;32m<ipython-input-65-cd4b2fb1bf58>\u001b[0m in \u001b[0;36m<module>\u001b[0;34m()\u001b[0m\n\u001b[1;32m      1\u001b[0m \u001b[0;31m# has CRLF\u001b[0m\u001b[0;34m\u001b[0m\u001b[0;34m\u001b[0m\u001b[0m\n\u001b[1;32m      2\u001b[0m \u001b[0mprint\u001b[0m\u001b[0;34m(\u001b[0m \u001b[0;34m'`conn_density`: used to denote how many connectionPatch artists to sds create. '\u001b[0m\u001b[0;34m)\u001b[0m\u001b[0;34m\u001b[0m\u001b[0m\n\u001b[0;32m----> 3\u001b[0;31m \u001b[0mdisplay\u001b[0m\u001b[0;34m(\u001b[0m\u001b[0;34m'a'\u001b[0m\u001b[0;34m,\u001b[0m \u001b[0mend\u001b[0m\u001b[0;34m=\u001b[0m\u001b[0;34m'#'\u001b[0m\u001b[0;34m)\u001b[0m\u001b[0;34m\u001b[0m\u001b[0m\n\u001b[0m",
      "\u001b[0;32m/usr/local/lib/python3.5/dist-packages/IPython/core/display.py\u001b[0m in \u001b[0;36mdisplay\u001b[0;34m(include, exclude, metadata, transient, display_id, *objs, **kwargs)\u001b[0m\n\u001b[1;32m    302\u001b[0m                 \u001b[0;31m# kwarg-specified metadata gets precedence\u001b[0m\u001b[0;34m\u001b[0m\u001b[0;34m\u001b[0m\u001b[0m\n\u001b[1;32m    303\u001b[0m                 \u001b[0m_merge\u001b[0m\u001b[0;34m(\u001b[0m\u001b[0mmd_dict\u001b[0m\u001b[0;34m,\u001b[0m \u001b[0mmetadata\u001b[0m\u001b[0;34m)\u001b[0m\u001b[0;34m\u001b[0m\u001b[0m\n\u001b[0;32m--> 304\u001b[0;31m             \u001b[0mpublish_display_data\u001b[0m\u001b[0;34m(\u001b[0m\u001b[0mdata\u001b[0m\u001b[0;34m=\u001b[0m\u001b[0mformat_dict\u001b[0m\u001b[0;34m,\u001b[0m \u001b[0mmetadata\u001b[0m\u001b[0;34m=\u001b[0m\u001b[0mmd_dict\u001b[0m\u001b[0;34m,\u001b[0m \u001b[0;34m**\u001b[0m\u001b[0mkwargs\u001b[0m\u001b[0;34m)\u001b[0m\u001b[0;34m\u001b[0m\u001b[0m\n\u001b[0m\u001b[1;32m    305\u001b[0m     \u001b[0;32mif\u001b[0m \u001b[0mdisplay_id\u001b[0m\u001b[0;34m:\u001b[0m\u001b[0;34m\u001b[0m\u001b[0m\n\u001b[1;32m    306\u001b[0m         \u001b[0;32mreturn\u001b[0m \u001b[0mDisplayHandle\u001b[0m\u001b[0;34m(\u001b[0m\u001b[0mdisplay_id\u001b[0m\u001b[0;34m)\u001b[0m\u001b[0;34m\u001b[0m\u001b[0m\n",
      "\u001b[0;32m/usr/local/lib/python3.5/dist-packages/IPython/core/display.py\u001b[0m in \u001b[0;36mpublish_display_data\u001b[0;34m(data, metadata, source, transient, **kwargs)\u001b[0m\n\u001b[1;32m    118\u001b[0m         \u001b[0mdata\u001b[0m\u001b[0;34m=\u001b[0m\u001b[0mdata\u001b[0m\u001b[0;34m,\u001b[0m\u001b[0;34m\u001b[0m\u001b[0m\n\u001b[1;32m    119\u001b[0m         \u001b[0mmetadata\u001b[0m\u001b[0;34m=\u001b[0m\u001b[0mmetadata\u001b[0m\u001b[0;34m,\u001b[0m\u001b[0;34m\u001b[0m\u001b[0m\n\u001b[0;32m--> 120\u001b[0;31m         \u001b[0;34m**\u001b[0m\u001b[0mkwargs\u001b[0m\u001b[0;34m\u001b[0m\u001b[0m\n\u001b[0m\u001b[1;32m    121\u001b[0m     )\n\u001b[1;32m    122\u001b[0m \u001b[0;34m\u001b[0m\u001b[0m\n",
      "\u001b[0;31mTypeError\u001b[0m: publish() got an unexpected keyword argument 'end'"
     ]
    }
   ],
   "source": [
    "# has CRLF\n",
    "print( '`conn_density`: used to denote how many connectionPatch artists to \\\n",
    "sds create. ')"
   ]
  },
  {
   "cell_type": "code",
   "execution_count": 12,
   "metadata": {},
   "outputs": [
    {
     "name": "stdout",
     "output_type": "stream",
     "text": [
      "`conn_density`: used to denote how many connectionPatch artists to     sds create. \n"
     ]
    }
   ],
   "source": [
    "# has CRLF\n",
    "print( '`conn_density`: used to denote how many connectionPatch artists to \\\n",
    "    sds create. ')"
   ]
  },
  {
   "cell_type": "code",
   "execution_count": 16,
   "metadata": {},
   "outputs": [
    {
     "name": "stdout",
     "output_type": "stream",
     "text": [
      "feature dimension of data is greater than 3, only the algebra\n"
     ]
    }
   ],
   "source": [
    "# has CRLF\n",
    "print('feature dimension of data is greater than 3, only the '\n",
    "      'algebra')"
   ]
  },
  {
   "cell_type": "code",
   "execution_count": 101,
   "metadata": {},
   "outputs": [
    {
     "name": "stdout",
     "output_type": "stream",
     "text": [
      "feature dimension of data is greater than 3, only the algebra\n"
     ]
    }
   ],
   "source": [
    "# has CRLF | use this.\n",
    "print('feature dimension of data is greater than 3, only the ' \\\n",
    "      'algebra')"
   ]
  },
  {
   "cell_type": "code",
   "execution_count": 19,
   "metadata": {},
   "outputs": [
    {
     "ename": "SyntaxError",
     "evalue": "EOL while scanning string literal (<ipython-input-19-dfa4a23fb979>, line 2)",
     "output_type": "error",
     "traceback": [
      "\u001b[0;36m  File \u001b[0;32m\"<ipython-input-19-dfa4a23fb979>\"\u001b[0;36m, line \u001b[0;32m2\u001b[0m\n\u001b[0;31m    print('feature dimension of data is greater than 3, only the\u001b[0m\n\u001b[0m                                                                 ^\u001b[0m\n\u001b[0;31mSyntaxError\u001b[0m\u001b[0;31m:\u001b[0m EOL while scanning string literal\n"
     ]
    }
   ],
   "source": [
    "# has CRLF\n",
    "print('feature dimension of data is greater than 3, only the \n",
    "      'algebra')"
   ]
  },
  {
   "cell_type": "code",
   "execution_count": 20,
   "metadata": {},
   "outputs": [
    {
     "ename": "SyntaxError",
     "evalue": "invalid syntax (<ipython-input-20-726dd257c453>, line 2)",
     "output_type": "error",
     "traceback": [
      "\u001b[0;36m  File \u001b[0;32m\"<ipython-input-20-726dd257c453>\"\u001b[0;36m, line \u001b[0;32m2\u001b[0m\n\u001b[0;31m    print('feature dimension of data is greater than 3, only the        'algebra')\u001b[0m\n\u001b[0m                                                                               ^\u001b[0m\n\u001b[0;31mSyntaxError\u001b[0m\u001b[0;31m:\u001b[0m invalid syntax\n"
     ]
    }
   ],
   "source": [
    "# has CRLF\n",
    "print('feature dimension of data is greater than 3, only the  \\\n",
    "      'algebra')"
   ]
  },
  {
   "cell_type": "code",
   "execution_count": 112,
   "metadata": {},
   "outputs": [
    {
     "ename": "SyntaxError",
     "evalue": "EOL while scanning string literal (<ipython-input-112-3ff45482e464>, line 1)",
     "output_type": "error",
     "traceback": [
      "\u001b[0;36m  File \u001b[0;32m\"<ipython-input-112-3ff45482e464>\"\u001b[0;36m, line \u001b[0;32m1\u001b[0m\n\u001b[0;31m    print( \"`conn_density`: used to denote how many connectionPatch artists to\u001b[0m\n\u001b[0m                                                                               ^\u001b[0m\n\u001b[0;31mSyntaxError\u001b[0m\u001b[0;31m:\u001b[0m EOL while scanning string literal\n"
     ]
    }
   ],
   "source": [
    "print( \"`conn_density`: used to denote how many connectionPatch artists to \n",
    "create. \")"
   ]
  },
  {
   "cell_type": "markdown",
   "metadata": {},
   "source": [
    "### Coding Style"
   ]
  },
  {
   "cell_type": "code",
   "execution_count": null,
   "metadata": {},
   "outputs": [],
   "source": [
    "                pd_of_l_on_f_s = 2 / self.config.space_mapping_process[1] * \\\n",
    "                                 y_minus_f_s\n",
    "                self.b = tf.Variable(self.config.bias_initializer(shape= \\\n",
    "                            [self.config.num_of_class, ]) + 0.1)\n",
    "                # 函数参数； +号 —— no need of `\\`\n",
    "            self.train_op_holder = tf.train.GradientDescentOptimizer(0.1). \\\n",
    "        minimize(self.loss_holder)"
   ]
  },
  {
   "cell_type": "code",
   "execution_count": null,
   "metadata": {
    "scrolled": true
   },
   "outputs": [],
   "source": [
    "                    raise ValueError(\n",
    "                        'Invalid `type` argument of `hist_plot` or '\n",
    "                        '`image_plot`: %s' % type_)\n",
    "\n",
    "                    raise ValueError('Invalid `type` argument of `hist_plot`'\\\n",
    "                                     ' or `image_plot`: %s' % type_)"
   ]
  },
  {
   "cell_type": "code",
   "execution_count": 69,
   "metadata": {},
   "outputs": [
    {
     "name": "stdout",
     "output_type": "stream",
     "text": [
      "1 2\n"
     ]
    },
    {
     "data": {
      "text/plain": [
       "<function __main__.<lambda>.<locals>.<lambda>>"
      ]
     },
     "execution_count": 69,
     "metadata": {},
     "output_type": "execute_result"
    }
   ],
   "source": [
    "# def my_decorator2(f):\n",
    "#     return lambda *args, **kw: f(*args, **kw)\n",
    "my_decorator2 = lambda f: (lambda *args, **kw: f(*args, **kw))\n",
    "\n",
    "def func(a, b=-1):\n",
    "    print(a, b)\n",
    "    \n",
    "func = my_decorator2(func)\n",
    "func(1,2)\n",
    "func"
   ]
  },
  {
   "cell_type": "markdown",
   "metadata": {},
   "source": [
    "### Copy"
   ]
  },
  {
   "cell_type": "code",
   "execution_count": 79,
   "metadata": {},
   "outputs": [],
   "source": [
    "import copy\n",
    "def copy_test():\n",
    "    print('l1:', l1)\n",
    "    l2[0] = 10\n",
    "    l2[1][0] = 11\n",
    "    l2[2].append(12)\n",
    "    l2.append(13)\n",
    "    print('l2:', l2)\n",
    "    print('l1:', l1)"
   ]
  },
  {
   "cell_type": "code",
   "execution_count": 80,
   "metadata": {},
   "outputs": [
    {
     "name": "stdout",
     "output_type": "stream",
     "text": [
      "l1: [1, [2, 3], [4, 5]]\n",
      "l2: [10, [11, 3], [4, 5, 12], 13]\n",
      "l1: [1, [2, 3], [4, 5]]\n"
     ]
    }
   ],
   "source": [
    "e1, e2 = [2, 3], [4, 5]\n",
    "l1 = [1, e1, e2]\n",
    "l2 = copy.deepcopy(l1)\n",
    "copy_test()"
   ]
  },
  {
   "cell_type": "code",
   "execution_count": 81,
   "metadata": {},
   "outputs": [
    {
     "name": "stdout",
     "output_type": "stream",
     "text": [
      "l1: [1, [2, 3], [4, 5]]\n",
      "l2: [10, [11, 3], [4, 5, 12], 13]\n",
      "l1: [1, [11, 3], [4, 5, 12]]\n"
     ]
    }
   ],
   "source": [
    "e1, e2 = [2, 3], [4, 5]\n",
    "l1 = [1, e1, e2]\n",
    "l2 = copy.copy(l1)\n",
    "copy_test()"
   ]
  },
  {
   "cell_type": "code",
   "execution_count": 94,
   "metadata": {},
   "outputs": [
    {
     "name": "stdout",
     "output_type": "stream",
     "text": [
      "[1, [10, 3, 11], [4], 5]\n",
      "[1, [10, 3, 11], [4], 5]\n"
     ]
    }
   ],
   "source": [
    "e1, e2, e3 = [2, 3], [4], 5\n",
    "l1 = [1, e1, e2, e3]\n",
    "l2 = l1\n",
    "e1[0] = 10\n",
    "e1.append(11)\n",
    "e2 = 12\n",
    "e3 = 13\n",
    "print(l1)\n",
    "print(l2)"
   ]
  },
  {
   "cell_type": "code",
   "execution_count": 92,
   "metadata": {},
   "outputs": [
    {
     "name": "stdout",
     "output_type": "stream",
     "text": [
      "[1, [10, 3, 11], [4], 5]\n",
      "[1, [10, 3, 11], [4], 5]\n"
     ]
    }
   ],
   "source": [
    "e1, e2, e3 = [2, 3], [4], 5\n",
    "l1 = [1, e1, e2, e3]\n",
    "l2 = copy.copy(l1)\n",
    "e1[0] = 10\n",
    "e1.append(11)\n",
    "e2 = 12\n",
    "e3 = 13\n",
    "print(l1)\n",
    "print(l2)"
   ]
  },
  {
   "cell_type": "code",
   "execution_count": 93,
   "metadata": {},
   "outputs": [
    {
     "name": "stdout",
     "output_type": "stream",
     "text": [
      "[1, [10, 3, 11], [4], 5]\n",
      "[1, [2, 3], [4], 5]\n"
     ]
    }
   ],
   "source": [
    "e1, e2, e3 = [2, 3], [4], 5\n",
    "l1 = [1, e1, e2, e3]\n",
    "l2 = copy.deepcopy(l1)\n",
    "e1[0] = 10\n",
    "e1.append(11)\n",
    "e2 = 12\n",
    "e3 = 13\n",
    "print(l1)\n",
    "print(l2)"
   ]
  },
  {
   "cell_type": "markdown",
   "metadata": {},
   "source": [
    "### RegEx"
   ]
  },
  {
   "cell_type": "code",
   "execution_count": 300,
   "metadata": {},
   "outputs": [
    {
     "name": "stdout",
     "output_type": "stream",
     "text": [
      "word--------------\n",
      "['我的test是哪个']\n",
      "['我的test是哪个']\n",
      "word1--------------\n",
      "['我的test是哪个', '']\n",
      "['我的test是哪个', '']\n",
      "['test']\n"
     ]
    }
   ],
   "source": [
    "print('word--------------')\n",
    "print(re.findall(r'\\w+', '我的test是哪个'))\n",
    "print(re.findall(r'\\b\\w+\\b', '我的test是哪个'))\n",
    "print('word1--------------')\n",
    "print(re.findall(r'\\w*', '我的test是哪个'))\n",
    "print(re.findall(r'\\b\\w*\\b', '我的test是哪个'))\n",
    "print(re.findall(r'\\w+', '我的test是哪个', flags=re.ASCII))"
   ]
  },
  {
   "cell_type": "code",
   "execution_count": 376,
   "metadata": {},
   "outputs": [],
   "source": [
    "import re\n",
    "def f(s):\n",
    "    return re.sub(\n",
    "        r'[a-zA-Z]+', \n",
    "        lambda m: r'$\\small{  \\text{%s}  }$' % m.group(0), \n",
    "        s)"
   ]
  },
  {
   "cell_type": "code",
   "execution_count": 378,
   "metadata": {},
   "outputs": [
    {
     "name": "stdout",
     "output_type": "stream",
     "text": [
      "4 $\\small{  \\text{Reber}  }$\\ $\\small{  \\text{grammer}  }$ 是个确定的东西，用编译原理完全可以解决，为什么要用神经网络来做？因为存在$\\small{  \\text{DFA}  }$不确定的情况，这样一下就很好的理解了训练的过程和测试的过程——那说明根本就不应该像他那么讲，（自己为什么发觉了？棒球模型）\n"
     ]
    }
   ],
   "source": [
    "s = r\"\"\"4 $Reber\\ grammer$ 是个确定的东西，用编译原理完全可以解决，为什么要用神经网络来做？因为存在$DFA$不确定的情况，这样一下就很好的理解了训练的过程和测试的过程——那说明根本就不应该像他那么讲，（自己为什么发觉了？棒球模型）\"\"\"\n",
    "s = s.replace('$', '')\n",
    "print(f(s))"
   ]
  },
  {
   "cell_type": "code",
   "execution_count": 357,
   "metadata": {},
   "outputs": [
    {
     "name": "stdout",
     "output_type": "stream",
     "text": [
      "['', '', 'b', '', '']\n"
     ]
    }
   ],
   "source": [
    "import re\n",
    "print(re.findall(r'b?', 'aaba'))"
   ]
  },
  {
   "cell_type": "markdown",
   "metadata": {},
   "source": [
    "match object test"
   ]
  },
  {
   "cell_type": "code",
   "execution_count": 356,
   "metadata": {},
   "outputs": [
    {
     "name": "stdout",
     "output_type": "stream",
     "text": [
      "('aa', 'a')\n",
      "aaba\n",
      "aa\n",
      "a\n"
     ]
    }
   ],
   "source": [
    "import re\n",
    "\"\"\" match the pattern at the beginning once to get the matched substring, and \n",
    "then group it into `groups`. \"\"\"\n",
    "m = re.match(r'(aa)\\w(a)', 'aaba000aaba')\n",
    "print(m.groups())\n",
    "print(m.group(0))\n",
    "print(m.group(1))\n",
    "print(m.group(2))"
   ]
  },
  {
   "cell_type": "code",
   "execution_count": 353,
   "metadata": {},
   "outputs": [
    {
     "name": "stdout",
     "output_type": "stream",
     "text": [
      "()\n",
      "aaba\n"
     ]
    }
   ],
   "source": [
    "import re\n",
    "m = re.match(r'aa\\wa', 'aaba000aaba')\n",
    "print(m.groups())\n",
    "print(m.group(0))\n",
    "# error!\n",
    "# print(m.group(1))\n",
    "# print(m.group(2))"
   ]
  },
  {
   "cell_type": "code",
   "execution_count": 355,
   "metadata": {},
   "outputs": [
    {
     "name": "stdout",
     "output_type": "stream",
     "text": [
      "aaba\n",
      "aaba\n",
      "a000\n"
     ]
    }
   ],
   "source": [
    "import re\n",
    "\"\"\" print each match, and replace it with `None`. \"\"\"\n",
    "print(re.sub(r'aa\\wa', lambda m: print(m.group(0)) ,'aaaba000aaba'))"
   ]
  },
  {
   "cell_type": "code",
   "execution_count": 331,
   "metadata": {},
   "outputs": [
    {
     "data": {
      "text/plain": [
       "('24', '0')"
      ]
     },
     "execution_count": 331,
     "metadata": {},
     "output_type": "execute_result"
    }
   ],
   "source": [
    "import re\n",
    "m = re.match(r\"(\\d+)\\.?(\\d+)?\", \"24\")\n",
    "m.groups()      # Second group defaults to None.\n",
    "m.groups('0')   # Now, the second group defaults to '0'."
   ]
  },
  {
   "cell_type": "code",
   "execution_count": 54,
   "metadata": {},
   "outputs": [
    {
     "name": "stdout",
     "output_type": "stream",
     "text": [
      "x^2_0, x^2_0, x^2_0, x^2_0\n",
      "('x^2_0, x^2_0', 'x^2_0, x^2_0')\n"
     ]
    }
   ],
   "source": [
    "import re\n",
    "s = r'x^2_0, x^2_0, x^2_0, x^2_0@T1&T2.png'\n",
    "m = re.search(r'([\\^\\w]+, [\\^\\w]+), ([\\^\\w]+, [\\^\\w]+)', s)\n",
    "# m = re.search(r'x[\\^\\w]', s)\n",
    "print(m.group(0))\n",
    "print(m.groups())\n",
    "a, b, = m.groups()"
   ]
  },
  {
   "cell_type": "code",
   "execution_count": 295,
   "metadata": {},
   "outputs": [
    {
     "name": "stdout",
     "output_type": "stream",
     "text": [
      "0 | 0 | ss\n",
      "1 | 1 | ss\n",
      "2 | 3 | sbs\n",
      "3 | 3 | ss\n",
      "4 | 4 | ss\n"
     ]
    }
   ],
   "source": [
    "import re\n",
    "\n",
    "regex = r\"b*\"\n",
    "p = re.compile(regex)\n",
    "test_str = \"aaba\"\n",
    "for m in p.finditer(test_str):\n",
    "    print(m.start(), '|', m.end(), '|', 's' + m.string[m.start():m.end()] + 's')"
   ]
  },
  {
   "cell_type": "code",
   "execution_count": 294,
   "metadata": {},
   "outputs": [
    {
     "name": "stdout",
     "output_type": "stream",
     "text": [
      "0 | 1 | sas\n",
      "1 | 3 | sabs\n",
      "3 | 4 | sas\n",
      "4\n"
     ]
    }
   ],
   "source": [
    "import re\n",
    "\n",
    "regex = r\"ab*\"\n",
    "p = re.compile(regex)\n",
    "test_str = \"aaba\"\n",
    "for m in p.finditer(test_str):\n",
    "    print(m.start(), '|', m.end(), '|', 's' + m.string[m.start():m.end()] + 's')\n",
    "print(len(test_str))"
   ]
  },
  {
   "cell_type": "markdown",
   "metadata": {},
   "source": [
    "### Dict Update"
   ]
  },
  {
   "cell_type": "code",
   "execution_count": 31,
   "metadata": {},
   "outputs": [
    {
     "name": "stdout",
     "output_type": "stream",
     "text": [
      "{'red': 1, 'blue': 2}\n"
     ]
    }
   ],
   "source": [
    "d = {}\n",
    "d.update(red=1, blue=2)\n",
    "print(d)"
   ]
  },
  {
   "cell_type": "code",
   "execution_count": 32,
   "metadata": {},
   "outputs": [
    {
     "ename": "SyntaxError",
     "evalue": "keyword can't be an expression (<ipython-input-32-94e76e599ff8>, line 2)",
     "output_type": "error",
     "traceback": [
      "\u001b[0;36m  File \u001b[0;32m\"<ipython-input-32-94e76e599ff8>\"\u001b[0;36m, line \u001b[0;32m2\u001b[0m\n\u001b[0;31m    d.update('red'=1, 'blue'=2)\u001b[0m\n\u001b[0m            ^\u001b[0m\n\u001b[0;31mSyntaxError\u001b[0m\u001b[0;31m:\u001b[0m keyword can't be an expression\n"
     ]
    }
   ],
   "source": [
    "d = {}\n",
    "d.update('red'=1, 'blue'=2)\n",
    "print(d)"
   ]
  },
  {
   "cell_type": "code",
   "execution_count": 41,
   "metadata": {},
   "outputs": [
    {
     "ename": "SyntaxError",
     "evalue": "keyword can't be an expression (<ipython-input-41-e9d8a0e2d12d>, line 2)",
     "output_type": "error",
     "traceback": [
      "\u001b[0;36m  File \u001b[0;32m\"<ipython-input-41-e9d8a0e2d12d>\"\u001b[0;36m, line \u001b[0;32m2\u001b[0m\n\u001b[0;31m    d.update('red'.replace('_', '__') = 1)\u001b[0m\n\u001b[0m            ^\u001b[0m\n\u001b[0;31mSyntaxError\u001b[0m\u001b[0;31m:\u001b[0m keyword can't be an expression\n"
     ]
    }
   ],
   "source": [
    "d = {}\n",
    "d.update('red'.replace('_', '__') = 1)\n",
    "print(d)"
   ]
  },
  {
   "cell_type": "code",
   "execution_count": 46,
   "metadata": {},
   "outputs": [
    {
     "name": "stdout",
     "output_type": "stream",
     "text": [
      "{'red': 1}\n"
     ]
    }
   ],
   "source": [
    "d = {}\n",
    "red = 'r'\n",
    "d.update(red=1)\n",
    "print(d)"
   ]
  },
  {
   "cell_type": "code",
   "execution_count": 47,
   "metadata": {},
   "outputs": [
    {
     "ename": "TypeError",
     "evalue": "update expected at most 1 arguments, got 2",
     "output_type": "error",
     "traceback": [
      "\u001b[0;31m---------------------------------------------------------------------------\u001b[0m",
      "\u001b[0;31mTypeError\u001b[0m                                 Traceback (most recent call last)",
      "\u001b[0;32m<ipython-input-47-363f93d5a322>\u001b[0m in \u001b[0;36m<module>\u001b[0;34m()\u001b[0m\n\u001b[1;32m      1\u001b[0m \u001b[0md\u001b[0m \u001b[0;34m=\u001b[0m \u001b[0;34m{\u001b[0m\u001b[0;34m}\u001b[0m\u001b[0;34m\u001b[0m\u001b[0m\n\u001b[0;32m----> 2\u001b[0;31m \u001b[0md\u001b[0m\u001b[0;34m.\u001b[0m\u001b[0mupdate\u001b[0m\u001b[0;34m(\u001b[0m\u001b[0;34m'red'\u001b[0m\u001b[0;34m,\u001b[0m \u001b[0;36m1\u001b[0m\u001b[0;34m)\u001b[0m\u001b[0;34m\u001b[0m\u001b[0m\n\u001b[0m\u001b[1;32m      3\u001b[0m \u001b[0mprint\u001b[0m\u001b[0;34m(\u001b[0m\u001b[0md\u001b[0m\u001b[0;34m)\u001b[0m\u001b[0;34m\u001b[0m\u001b[0m\n",
      "\u001b[0;31mTypeError\u001b[0m: update expected at most 1 arguments, got 2"
     ]
    }
   ],
   "source": [
    "d = {}\n",
    "d.update('red', 1)\n",
    "print(d)"
   ]
  },
  {
   "cell_type": "code",
   "execution_count": 49,
   "metadata": {},
   "outputs": [
    {
     "ename": "ValueError",
     "evalue": "dictionary update sequence element #0 has length 3; 2 is required",
     "output_type": "error",
     "traceback": [
      "\u001b[0;31m---------------------------------------------------------------------------\u001b[0m",
      "\u001b[0;31mValueError\u001b[0m                                Traceback (most recent call last)",
      "\u001b[0;32m<ipython-input-49-c1f0aaabc5da>\u001b[0m in \u001b[0;36m<module>\u001b[0;34m()\u001b[0m\n\u001b[1;32m      1\u001b[0m \u001b[0md\u001b[0m \u001b[0;34m=\u001b[0m \u001b[0;34m{\u001b[0m\u001b[0;34m}\u001b[0m\u001b[0;34m\u001b[0m\u001b[0m\n\u001b[0;32m----> 2\u001b[0;31m \u001b[0md\u001b[0m\u001b[0;34m.\u001b[0m\u001b[0mupdate\u001b[0m\u001b[0;34m(\u001b[0m\u001b[0;34m[\u001b[0m\u001b[0;34m'red'\u001b[0m\u001b[0;34m,\u001b[0m \u001b[0;36m1\u001b[0m\u001b[0;34m]\u001b[0m\u001b[0;34m)\u001b[0m\u001b[0;34m\u001b[0m\u001b[0m\n\u001b[0m\u001b[1;32m      3\u001b[0m \u001b[0mprint\u001b[0m\u001b[0;34m(\u001b[0m\u001b[0md\u001b[0m\u001b[0;34m)\u001b[0m\u001b[0;34m\u001b[0m\u001b[0m\n",
      "\u001b[0;31mValueError\u001b[0m: dictionary update sequence element #0 has length 3; 2 is required"
     ]
    }
   ],
   "source": [
    "d = {}\n",
    "d.update(['red', 1])\n",
    "print(d)"
   ]
  },
  {
   "cell_type": "code",
   "execution_count": 50,
   "metadata": {},
   "outputs": [
    {
     "name": "stdout",
     "output_type": "stream",
     "text": [
      "{'red': 1}\n"
     ]
    }
   ],
   "source": [
    "d = {}\n",
    "d.update([('red', 1)])\n",
    "print(d)"
   ]
  },
  {
   "cell_type": "code",
   "execution_count": 53,
   "metadata": {},
   "outputs": [
    {
     "name": "stdout",
     "output_type": "stream",
     "text": [
      "{'red': 1}\n"
     ]
    }
   ],
   "source": [
    "d = {}\n",
    "d.update({'red': 1})\n",
    "print(d)"
   ]
  },
  {
   "cell_type": "markdown",
   "metadata": {},
   "source": [
    "### Miscellaneous"
   ]
  },
  {
   "cell_type": "code",
   "execution_count": 103,
   "metadata": {},
   "outputs": [
    {
     "ename": "AttributeError",
     "evalue": "'str' object has no attribute '__call__'",
     "output_type": "error",
     "traceback": [
      "\u001b[0;31m---------------------------------------------------------------------------\u001b[0m",
      "\u001b[0;31mAttributeError\u001b[0m                            Traceback (most recent call last)",
      "\u001b[0;32m<ipython-input-103-dbd738808258>\u001b[0m in \u001b[0;36m<module>\u001b[0;34m()\u001b[0m\n\u001b[1;32m      1\u001b[0m \u001b[0ma\u001b[0m \u001b[0;34m=\u001b[0m \u001b[0;34m'1'\u001b[0m\u001b[0;34m*\u001b[0m\u001b[0;36m10\u001b[0m\u001b[0;34m\u001b[0m\u001b[0m\n\u001b[0;32m----> 2\u001b[0;31m \u001b[0ma\u001b[0m\u001b[0;34m.\u001b[0m\u001b[0m__call__\u001b[0m \u001b[0;34m=\u001b[0m \u001b[0;32mlambda\u001b[0m\u001b[0;34m:\u001b[0m \u001b[0;36m2\u001b[0m\u001b[0;34m\u001b[0m\u001b[0m\n\u001b[0m",
      "\u001b[0;31mAttributeError\u001b[0m: 'str' object has no attribute '__call__'"
     ]
    }
   ],
   "source": [
    "a = '1'*10\n",
    "a.__call__ = lambda: 2"
   ]
  },
  {
   "cell_type": "code",
   "execution_count": 168,
   "metadata": {},
   "outputs": [
    {
     "name": "stdout",
     "output_type": "stream",
     "text": [
      "dict_items([(0, 0), (1, 1), (2, 2), (3, 3), (4, 4), (5, 5), (6, 6), (7, 7), (8, 8), (9, 9)])\n",
      "[0]\n",
      "[1]\n",
      "[2]\n",
      "[3]\n",
      "[4]\n",
      "[5]\n",
      "[6]\n",
      "[7]\n",
      "[8]\n",
      "[9]\n",
      "0 1 2 3 4 5 6 7 8 9 "
     ]
    }
   ],
   "source": [
    "from itertools import groupby\n",
    "\n",
    "a = dict(zip(range(10), range(10)))\n",
    "print(a.items())\n",
    "for _, group in groupby(a, lambda _: _%2):\n",
    "    print(list(group))\n",
    "for _ in a:\n",
    "    print(_, end=' ')"
   ]
  },
  {
   "cell_type": "code",
   "execution_count": 166,
   "metadata": {},
   "outputs": [
    {
     "name": "stdout",
     "output_type": "stream",
     "text": [
      "dict_items([('4', 4), ('2', 2), ('6', 6), ('8', 8), ('3', 3), ('0', 0), ('5', 5), ('9', 9), ('7', 7), ('1', 1)])\n",
      "['4', '2', '6', '8']\n",
      "['3', '0', '5', '9', '7', '1']\n",
      "4 True | 2 True | 6 True | 8 True | 3 False | 0 False | 5 False | 9 False | 7 False | 1 False | "
     ]
    }
   ],
   "source": [
    "from itertools import groupby\n",
    "\n",
    "a = dict(zip('0123456789', range(10)))\n",
    "print(a.items())\n",
    "for _, group in groupby(a, lambda _: _ in '2468'):\n",
    "    print(list(group))\n",
    "for _ in a:\n",
    "    print(_, end=' ')\n",
    "    print(_ in '2468', end=' | ')"
   ]
  },
  {
   "cell_type": "code",
   "execution_count": 167,
   "metadata": {},
   "outputs": [
    {
     "name": "stdout",
     "output_type": "stream",
     "text": [
      "dict_items([('4', 4), ('2', 2), ('6', 6), ('8', 8), ('3', 3), ('0', 0), ('5', 5), ('9', 9), ('7', 7), ('1', 1)])\n",
      "['4', '2', '6', '8']\n",
      "['3', '0', '5', '9', '7', '1']\n",
      "4 True | 2 True | 6 True | 8 True | 3 False | 0 False | 5 False | 9 False | 7 False | 1 False | "
     ]
    }
   ],
   "source": [
    "from itertools import groupby\n",
    "\n",
    "a = dict(zip('0123456789', range(10)))\n",
    "print(a.items())\n",
    "for _, group in groupby(a, lambda _: _ in '2468'):\n",
    "    print(list(group))\n",
    "for _ in a:\n",
    "    print(_, end=' ')\n",
    "    print(_ in '2468', end=' | ')"
   ]
  },
  {
   "cell_type": "code",
   "execution_count": 170,
   "metadata": {},
   "outputs": [
    {
     "name": "stdout",
     "output_type": "stream",
     "text": [
      "dict_items([('4', 4), ('2', 2), ('6', 6), ('8', 8), ('3', 3), ('0', 0), ('5', 5), ('9', 9), ('7', 7), ('1', 1)])\n"
     ]
    }
   ],
   "source": [
    "a = dict(zip('0123456789', range(10)))\n",
    "print(a.items())"
   ]
  },
  {
   "cell_type": "code",
   "execution_count": 190,
   "metadata": {},
   "outputs": [
    {
     "name": "stdout",
     "output_type": "stream",
     "text": [
      "a------------\n",
      " {'conn_we': 6, 'b': 3, 'conn_er': 2, 'z': 10, 'ss': 11}\n"
     ]
    },
    {
     "data": {
      "text/plain": [
       "{'conn_er': 2, 'conn_we': 6}"
      ]
     },
     "execution_count": 190,
     "metadata": {},
     "output_type": "execute_result"
    }
   ],
   "source": [
    "from itertools import groupby\n",
    "\n",
    "a = {'z':10, 'b':3, 'conn_we': 6, 'ss': 11, 'conn_er': 2}\n",
    "# print(sorted(a))\n",
    "print('a------------\\n', a)\n",
    "\n",
    "# a1 = sorted(a.items(), key=lambda _:'conn' in _[0])\n",
    "# print('a1------------\\n', a1)\n",
    "# for _, group in groupby(a1, lambda _:'conn' in _[0]): \n",
    "#     print(dict(group))\n",
    "\n",
    "dict(filter(lambda _: 'conn' in _[0], a.items()))\n",
    "# list(filter(lambda _: 'conn' not in _[0], a))\n",
    "# dict(filter(lambda _: 'conn' not in _[0], a))"
   ]
  },
  {
   "cell_type": "code",
   "execution_count": 219,
   "metadata": {},
   "outputs": [
    {
     "name": "stdout",
     "output_type": "stream",
     "text": [
      "b'\\xff\\xfe\\x11b\\x84vt\\x00e\\x00s\\x00t\\x00/f\\xeaT*N\\x1f\\xff'\n",
      "b'' \n",
      "b'\\xff' \n",
      "b'\\xff\\xfe' \n",
      "b'\\xff\\xfe\\x11' \n",
      "b'\\xff\\xfe\\x11b' 我\n",
      "b'\\xff\\xfe\\x11b\\x84' 我\n",
      "b'\\xff\\xfe\\x11b\\x84v' 我的\n",
      "b'\\xff\\xfe\\x11b\\x84vt' 我的\n",
      "b'\\xff\\xfe\\x11b\\x84vt\\x00' 我的t\n",
      "b'\\xff\\xfe\\x11b\\x84vt\\x00e' 我的t\n",
      "b'\\xff\\xfe\\x11b\\x84vt\\x00e\\x00' 我的te\n",
      "b'\\xff\\xfe\\x11b\\x84vt\\x00e\\x00s' 我的te\n",
      "b'\\xff\\xfe\\x11b\\x84vt\\x00e\\x00s\\x00' 我的tes\n",
      "b'\\xff\\xfe\\x11b\\x84vt\\x00e\\x00s\\x00t' 我的tes\n",
      "b'\\xff\\xfe\\x11b\\x84vt\\x00e\\x00s\\x00t\\x00' 我的test\n",
      "b'\\xff\\xfe\\x11b\\x84vt\\x00e\\x00s\\x00t\\x00/' 我的test\n",
      "b'\\xff\\xfe\\x11b\\x84vt\\x00e\\x00s\\x00t\\x00/f' 我的test是\n",
      "b'\\xff\\xfe\\x11b\\x84vt\\x00e\\x00s\\x00t\\x00/f\\xea' 我的test是\n",
      "b'\\xff\\xfe\\x11b\\x84vt\\x00e\\x00s\\x00t\\x00/f\\xeaT' 我的test是哪\n",
      "b'\\xff\\xfe\\x11b\\x84vt\\x00e\\x00s\\x00t\\x00/f\\xeaT*' 我的test是哪\n",
      "b'\\xff\\xfe\\x11b\\x84vt\\x00e\\x00s\\x00t\\x00/f\\xeaT*N' 我的test是哪个\n",
      "b'\\xff\\xfe\\x11b\\x84vt\\x00e\\x00s\\x00t\\x00/f\\xeaT*N\\x1f' 我的test是哪个\n",
      "b'\\xff\\xfe\\x11b\\x84vt\\x00e\\x00s\\x00t\\x00/f\\xeaT*N\\x1f\\xff' 我的test是哪个？\n"
     ]
    }
   ],
   "source": [
    "s = '我的test是哪个？'.encode('utf_16')\n",
    "print(s)\n",
    "for i in range(len(s)+1):\n",
    "    s_ = s[:i]\n",
    "    print(s_, s_.decode('utf_16', 'ignore'))"
   ]
  }
 ],
 "metadata": {
  "kernelspec": {
   "display_name": "Python 3",
   "language": "python",
   "name": "python3"
  },
  "language_info": {
   "codemirror_mode": {
    "name": "ipython",
    "version": 3
   },
   "file_extension": ".py",
   "mimetype": "text/x-python",
   "name": "python",
   "nbconvert_exporter": "python",
   "pygments_lexer": "ipython3",
   "version": "3.5.2"
  }
 },
 "nbformat": 4,
 "nbformat_minor": 2
}
